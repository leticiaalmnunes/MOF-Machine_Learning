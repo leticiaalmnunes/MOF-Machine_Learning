{
 "cells": [
  {
   "cell_type": "markdown",
   "id": "323950c1",
   "metadata": {},
   "source": [
    "## <center> PREVISÃO DO TEMPO DE SÍNTESE DE MOF's <br><br> Regressão por Floresta Aleatória 🌳🌲🌴 </center>\n",
    "\n",
    "Projeto final da disciplina `Aprendizado de Máquina` do 2° período do Bacharelado em `Ciência e Tecnologia` da *Ilum Escola de Ciência (Centro Nacional de Pesquisa em Energia e Materiais)*.\n",
    "\n",
    "<b> Professor: </b> Daniel Cassar<br>\n",
    "<b> Semestre: </b> 2024.2 <br>\n",
    "<b> Turma: </b> 2024 <br>\n",
    "<b> Grupo: </b> 6 - Arautos da Crepúsculo <br>\n",
    "<b> Integrantes: </b> Feérica Lyra (*Letícia Nunes*), Mística Luz (*Rafaela Luz*) e Druida Thomaleq (*Thomas Hannemann*) <br>"
   ]
  },
  {
   "cell_type": "markdown",
   "id": "e2fe8119",
   "metadata": {},
   "source": [
    "<div class='alert alert-warning'>\n",
    "    <b>ATENÇÃO</b>\n",
    "    \n",
    "Este programa possui uma célula de código custosa computacionalmente na seção 4. Por isso, recomenda-se o uso de um **HPC** para rodar este caderno. Na falta deste, do tempo ou qualquer recurso para rodar o programa no seu computador, é possível obter os arquivos gerados aqui também no nosso GitHub. Todavia, caso precise rodar esse programa sem HPC, o programa ainda irá rodar em menos que 1h.\n",
    "</div>"
   ]
  },
  {
   "cell_type": "markdown",
   "id": "0859a96c",
   "metadata": {},
   "source": [
    "---"
   ]
  },
  {
   "cell_type": "markdown",
   "id": "f983ef6e",
   "metadata": {},
   "source": [
    "### Bibliotecas"
   ]
  },
  {
   "cell_type": "code",
   "execution_count": 1,
   "id": "78fd66b2",
   "metadata": {},
   "outputs": [],
   "source": [
    "import pandas as pd\n",
    "import numpy as np\n",
    "import matplotlib.pyplot as plt\n",
    "\n",
    "# Criação do modelo\n",
    "from sklearn.ensemble import RandomForestRegressor\n",
    "from sklearn.metrics import mean_squared_error\n",
    "\n",
    "# Otimização de hiperparâmetros\n",
    "from optuna import create_study\n",
    "from sklearn.model_selection import cross_val_score\n",
    "\n",
    "SEMENTE_ALETORIA = 84920"
   ]
  },
  {
   "cell_type": "markdown",
   "id": "a4b47f52",
   "metadata": {},
   "source": [
    "### Sumário\n",
    "\n",
    "1. Introdução \n",
    "2. Preparações Iniciais\n",
    "3. Floresta Aleatória <br>\n",
    "    3.1. Modelo e métricas <br>\n",
    "    3.2. Importância dos atributos <br>\n",
    "4. Otimização de hiperparâmetros\n",
    "5. Conclusão\n",
    "6. Referências"
   ]
  },
  {
   "cell_type": "markdown",
   "id": "54c669c5",
   "metadata": {},
   "source": [
    "---"
   ]
  },
  {
   "cell_type": "markdown",
   "id": "aedf6c81",
   "metadata": {},
   "source": [
    "## 1. Introdução"
   ]
  },
  {
   "cell_type": "markdown",
   "id": "6404e7b0",
   "metadata": {},
   "source": [
    "Neste caderno, iremos realizar uma regressão utilizando o algoritmo de floresta aleatória do SciKit Learn, como uma das tentativas de se obter um modelo com alta performance. \n",
    "\n",
    "Floresta aleatória é um algoritmo que, como o nome sugere, funciona de forma semelhante ao árvore de decisão. Todavia, a diferença entre a floresta e a árvore de decisão é que treinamos diversas árvores, expostas a conjuntos de dados sutilmente diferentes (um sorteio com reposição, por exemplo), de um mesmo DataFrame. Assim, espera-se uma melhora na performance quando as \"parcialidades\" de cada árvore são consideradas em conjunto. A diferença faz a força!"
   ]
  },
  {
   "cell_type": "markdown",
   "id": "f2d367d4",
   "metadata": {},
   "source": [
    "## 2. Preparações iniciais"
   ]
  },
  {
   "cell_type": "markdown",
   "id": "44f1d4c4",
   "metadata": {},
   "source": [
    "Como todo algoritmo de machine learning, precisamos carregar nossos dados e definir nosso target (tempo) e os atributos (X)."
   ]
  },
  {
   "cell_type": "markdown",
   "id": "5292b300",
   "metadata": {},
   "source": [
    "Carregando os DataFrames de treino e teste."
   ]
  },
  {
   "cell_type": "code",
   "execution_count": 2,
   "id": "9c13d8be",
   "metadata": {},
   "outputs": [],
   "source": [
    "df_treino = pd.read_csv('RAC_treino_floresta.csv')\n",
    "df_teste = pd.read_csv('RAC_teste_floresta.csv')"
   ]
  },
  {
   "cell_type": "markdown",
   "id": "ff355998",
   "metadata": {},
   "source": [
    "Agora, podemos definir nosso target (y) e atributos (X) de treino e teste."
   ]
  },
  {
   "cell_type": "code",
   "execution_count": 3,
   "id": "b48abc2a",
   "metadata": {},
   "outputs": [],
   "source": [
    "X_treino = df_treino.drop('time', axis=1)\n",
    "y_treino = df_treino['time'].ravel()\n",
    "\n",
    "X_teste = df_teste.drop('time', axis=1)\n",
    "y_teste = df_teste['time'].ravel()"
   ]
  },
  {
   "cell_type": "markdown",
   "id": "8758b630",
   "metadata": {},
   "source": [
    "## 3. Floresta Aleatória "
   ]
  },
  {
   "cell_type": "markdown",
   "id": "f9ab42a6",
   "metadata": {},
   "source": [
    "### 3.1. Modelo e Métricas"
   ]
  },
  {
   "cell_type": "markdown",
   "id": "cd9b1b2e",
   "metadata": {},
   "source": [
    "Agora, iremos instanciar o modelo `RandomForestRegressor` como `modelo_fa`."
   ]
  },
  {
   "cell_type": "code",
   "execution_count": 4,
   "id": "a21160dc",
   "metadata": {},
   "outputs": [],
   "source": [
    "modelo_fa = RandomForestRegressor()"
   ]
  },
  {
   "cell_type": "markdown",
   "id": "eb5faf7d",
   "metadata": {},
   "source": [
    "Com os hiperparâmetros padronizados e arbitrários, definidos pelo próprio SciKit Learn, podemos ajustá-lo aos nossos dados."
   ]
  },
  {
   "cell_type": "code",
   "execution_count": 5,
   "id": "0f03ae7b",
   "metadata": {},
   "outputs": [
    {
     "data": {
      "text/html": [
       "<style>#sk-container-id-1 {color: black;background-color: white;}#sk-container-id-1 pre{padding: 0;}#sk-container-id-1 div.sk-toggleable {background-color: white;}#sk-container-id-1 label.sk-toggleable__label {cursor: pointer;display: block;width: 100%;margin-bottom: 0;padding: 0.3em;box-sizing: border-box;text-align: center;}#sk-container-id-1 label.sk-toggleable__label-arrow:before {content: \"▸\";float: left;margin-right: 0.25em;color: #696969;}#sk-container-id-1 label.sk-toggleable__label-arrow:hover:before {color: black;}#sk-container-id-1 div.sk-estimator:hover label.sk-toggleable__label-arrow:before {color: black;}#sk-container-id-1 div.sk-toggleable__content {max-height: 0;max-width: 0;overflow: hidden;text-align: left;background-color: #f0f8ff;}#sk-container-id-1 div.sk-toggleable__content pre {margin: 0.2em;color: black;border-radius: 0.25em;background-color: #f0f8ff;}#sk-container-id-1 input.sk-toggleable__control:checked~div.sk-toggleable__content {max-height: 200px;max-width: 100%;overflow: auto;}#sk-container-id-1 input.sk-toggleable__control:checked~label.sk-toggleable__label-arrow:before {content: \"▾\";}#sk-container-id-1 div.sk-estimator input.sk-toggleable__control:checked~label.sk-toggleable__label {background-color: #d4ebff;}#sk-container-id-1 div.sk-label input.sk-toggleable__control:checked~label.sk-toggleable__label {background-color: #d4ebff;}#sk-container-id-1 input.sk-hidden--visually {border: 0;clip: rect(1px 1px 1px 1px);clip: rect(1px, 1px, 1px, 1px);height: 1px;margin: -1px;overflow: hidden;padding: 0;position: absolute;width: 1px;}#sk-container-id-1 div.sk-estimator {font-family: monospace;background-color: #f0f8ff;border: 1px dotted black;border-radius: 0.25em;box-sizing: border-box;margin-bottom: 0.5em;}#sk-container-id-1 div.sk-estimator:hover {background-color: #d4ebff;}#sk-container-id-1 div.sk-parallel-item::after {content: \"\";width: 100%;border-bottom: 1px solid gray;flex-grow: 1;}#sk-container-id-1 div.sk-label:hover label.sk-toggleable__label {background-color: #d4ebff;}#sk-container-id-1 div.sk-serial::before {content: \"\";position: absolute;border-left: 1px solid gray;box-sizing: border-box;top: 0;bottom: 0;left: 50%;z-index: 0;}#sk-container-id-1 div.sk-serial {display: flex;flex-direction: column;align-items: center;background-color: white;padding-right: 0.2em;padding-left: 0.2em;position: relative;}#sk-container-id-1 div.sk-item {position: relative;z-index: 1;}#sk-container-id-1 div.sk-parallel {display: flex;align-items: stretch;justify-content: center;background-color: white;position: relative;}#sk-container-id-1 div.sk-item::before, #sk-container-id-1 div.sk-parallel-item::before {content: \"\";position: absolute;border-left: 1px solid gray;box-sizing: border-box;top: 0;bottom: 0;left: 50%;z-index: -1;}#sk-container-id-1 div.sk-parallel-item {display: flex;flex-direction: column;z-index: 1;position: relative;background-color: white;}#sk-container-id-1 div.sk-parallel-item:first-child::after {align-self: flex-end;width: 50%;}#sk-container-id-1 div.sk-parallel-item:last-child::after {align-self: flex-start;width: 50%;}#sk-container-id-1 div.sk-parallel-item:only-child::after {width: 0;}#sk-container-id-1 div.sk-dashed-wrapped {border: 1px dashed gray;margin: 0 0.4em 0.5em 0.4em;box-sizing: border-box;padding-bottom: 0.4em;background-color: white;}#sk-container-id-1 div.sk-label label {font-family: monospace;font-weight: bold;display: inline-block;line-height: 1.2em;}#sk-container-id-1 div.sk-label-container {text-align: center;}#sk-container-id-1 div.sk-container {/* jupyter's `normalize.less` sets `[hidden] { display: none; }` but bootstrap.min.css set `[hidden] { display: none !important; }` so we also need the `!important` here to be able to override the default hidden behavior on the sphinx rendered scikit-learn.org. See: https://github.com/scikit-learn/scikit-learn/issues/21755 */display: inline-block !important;position: relative;}#sk-container-id-1 div.sk-text-repr-fallback {display: none;}</style><div id=\"sk-container-id-1\" class=\"sk-top-container\"><div class=\"sk-text-repr-fallback\"><pre>RandomForestRegressor()</pre><b>In a Jupyter environment, please rerun this cell to show the HTML representation or trust the notebook. <br />On GitHub, the HTML representation is unable to render, please try loading this page with nbviewer.org.</b></div><div class=\"sk-container\" hidden><div class=\"sk-item\"><div class=\"sk-estimator sk-toggleable\"><input class=\"sk-toggleable__control sk-hidden--visually\" id=\"sk-estimator-id-1\" type=\"checkbox\" checked><label for=\"sk-estimator-id-1\" class=\"sk-toggleable__label sk-toggleable__label-arrow\">RandomForestRegressor</label><div class=\"sk-toggleable__content\"><pre>RandomForestRegressor()</pre></div></div></div></div></div>"
      ],
      "text/plain": [
       "RandomForestRegressor()"
      ]
     },
     "execution_count": 5,
     "metadata": {},
     "output_type": "execute_result"
    }
   ],
   "source": [
    "modelo_fa.fit(X_treino, y_treino)"
   ]
  },
  {
   "cell_type": "markdown",
   "id": "5a3587de",
   "metadata": {},
   "source": [
    "Realizando uma previsão!"
   ]
  },
  {
   "cell_type": "code",
   "execution_count": 6,
   "id": "87c1c7a9",
   "metadata": {},
   "outputs": [],
   "source": [
    "y_previsao = modelo_fa.predict(X_teste)"
   ]
  },
  {
   "cell_type": "markdown",
   "id": "d09775ba",
   "metadata": {},
   "source": [
    "Encontrando as métricas (*MSE* e *RMSE*):"
   ]
  },
  {
   "cell_type": "code",
   "execution_count": 7,
   "id": "03b3a168",
   "metadata": {},
   "outputs": [
    {
     "name": "stdout",
     "output_type": "stream",
     "text": [
      "O MSE do modelo árvore de decisão foi de 3834.8813703703718.\n",
      "O RMSE do modelo árvore de decisão foi de 61.926419001669814 horas.\n"
     ]
    }
   ],
   "source": [
    "y_verdadeiro = y_teste\n",
    "\n",
    "MSE = mean_squared_error(y_verdadeiro, y_previsao)\n",
    "RMSE = mean_squared_error(y_verdadeiro, y_previsao, squared = False)\n",
    "\n",
    "print(f\"O MSE do modelo árvore de decisão foi de {MSE}.\")\n",
    "print(f\"O RMSE do modelo árvore de decisão foi de {RMSE} horas.\")"
   ]
  },
  {
   "cell_type": "markdown",
   "id": "0dee3071",
   "metadata": {},
   "source": [
    "Legal! Mas não tão legal quanto pode ser. Podemos encontrar a melhor combinação de hiperparâmetros para encontrar o menor erro - por isso, iremos realizar a otimização um pouco mais a frente."
   ]
  },
  {
   "cell_type": "markdown",
   "id": "41c0d0a3",
   "metadata": {},
   "source": [
    "### 3.2. Importâncias dos atributos"
   ]
  },
  {
   "cell_type": "markdown",
   "id": "62c8fb8e",
   "metadata": {},
   "source": [
    "O algoritmo de floresta aleatória nos proporciona algumas características sobre nossos dados que nem sempre é tão fácil identificar com outros métodos. Aqui, podemos identificar a importância relativa de cada atributo - quanto cada atributo \"pesa\" no momento de realizar decisões. Aqui, iremos computar esses valores apenas como uma observação.\n",
    "\n",
    "Com o modelo do Sci-Kit Learn, obtemos a importância relativa apenas usando o método `.feature_importances_`."
   ]
  },
  {
   "cell_type": "code",
   "execution_count": 9,
   "id": "33895a75",
   "metadata": {},
   "outputs": [
    {
     "data": {
      "image/png": "[encoded data removed]",
      "text/plain": [
       "<Figure size 1536x1152 with 1 Axes>"
      ]
     },
     "metadata": {},
     "output_type": "display_data"
    }
   ],
   "source": [
    "plt.figure(dpi=240)\n",
    "\n",
    "FEATURES=X_treino.columns\n",
    "\n",
    "importancia = modelo_fa.feature_importances_\n",
    "plt.barh(y=FEATURES, width=importancia)\n",
    "\n",
    "plt.xlabel(\"Importância relativa (%)\");"
   ]
  },
  {
   "cell_type": "markdown",
   "id": "885271e2",
   "metadata": {},
   "source": [
    "Conseguimos observar que a temperatura, em especial tem a maior influência na previsão do tempo de reação - como geralmente é considerada por químicos na preparação da reação. Todavia, em relação aos outros valores, a linha de pensamento nem sempre nos leva a considerá-los, sua relevância não é tão intuitiva assim."
   ]
  },
  {
   "cell_type": "markdown",
   "id": "27f36071",
   "metadata": {},
   "source": [
    "## 4. Otimização de hiperparâmetros"
   ]
  },
  {
   "cell_type": "markdown",
   "id": "fc2eaf60",
   "metadata": {},
   "source": [
    "Utilizando a biblioteca Optuna, faremos a otimização dos hiperparâmetros.\n",
    "\n",
    "Criando a função para instanciar o modelo:"
   ]
  },
  {
   "cell_type": "code",
   "execution_count": 10,
   "id": "39b53570",
   "metadata": {},
   "outputs": [],
   "source": [
    "def cria_instancia_modelo(trial): \n",
    "    \"\"\"Cria uma instância do modelo.\n",
    "\n",
    "    Args:\n",
    "      trial: objeto tipo Trial do optuna.\n",
    "\n",
    "    Returns:\n",
    "      Uma instância do modelo desejado.\n",
    "\n",
    "    \"\"\"\n",
    "    parametros = {\n",
    "        \"n_estimators\": trial.suggest_int(\"num_arvores\", 10, 100, log=True), \n",
    "        \"criterion\": trial.suggest_categorical(\n",
    "            \"critério\", [\"squared_error\", \"friedman_mse\", \"poisson\"]\n",
    "        ),\n",
    "        \"min_samples_split\": trial.suggest_int(      \n",
    "            \"min_exemplos_split\", 2, 20, log=True \n",
    "        ),\n",
    "        \"min_samples_leaf\": trial.suggest_int(\n",
    "            \"min_exemplos_folha\", 1, 20, log=True\n",
    "        ),\n",
    "        \"max_features\": trial.suggest_float(\"num_max_atributos\", 0, 1),\n",
    "        \"n_jobs\": -1,\n",
    "        \"bootstrap\": True,\n",
    "        \"random_state\": SEMENTE_ALETORIA,\n",
    "    }\n",
    "\n",
    "    model = RandomForestRegressor(**parametros)\n",
    "\n",
    "    return model"
   ]
  },
  {
   "cell_type": "markdown",
   "id": "30ce0ed8",
   "metadata": {},
   "source": [
    "Com isso, conseguimos definir nossa função objetivo, que terá como métrica de avaliação sendo a validação cruzada, usando a função `cross_val_score` do Sci-Kit Learn:"
   ]
  },
  {
   "cell_type": "code",
   "execution_count": 11,
   "id": "1946b858",
   "metadata": {},
   "outputs": [],
   "source": [
    "def funcao_objetivo(trial, X, y, num_folds):\n",
    "    \"\"\"Função objetivo do optuna\n",
    "\n",
    "    Referencia:\n",
    "      https://medium.com/@walter_sperat/ using-optuna-with-sklearn-the-right-way-part-1-6b4ad0ab2451\n",
    "\n",
    "    \"\"\"\n",
    "    modelo = cria_instancia_modelo(trial)\n",
    "\n",
    "    metricas = cross_val_score(\n",
    "        modelo,\n",
    "        X,\n",
    "        y, \n",
    "        scoring=\"neg_root_mean_squared_error\",\n",
    "        cv=num_folds,\n",
    "    )\n",
    "\n",
    "    return -metricas.mean() "
   ]
  },
  {
   "cell_type": "markdown",
   "id": "6e561d3c",
   "metadata": {},
   "source": [
    "Feito a função objetivo, criamos nosso objeto de estudo, que é onde será realizado todo o processo de otimização. A métrica utilizada aqui, como nos cadernos anteriores, é RMSE."
   ]
  },
  {
   "cell_type": "code",
   "execution_count": 12,
   "id": "28efbbde",
   "metadata": {},
   "outputs": [
    {
     "name": "stderr",
     "output_type": "stream",
     "text": [
      "[I 2024-10-21 01:24:44,507] A new study created in RDB with name: floresta_aleatoria_MOFs\n"
     ]
    }
   ],
   "source": [
    "NOME_DO_ESTUDO = \"floresta_aleatoria_MOFs\"\n",
    "\n",
    "objeto_de_estudo = create_study(\n",
    "    direction=\"minimize\",\n",
    "    study_name=NOME_DO_ESTUDO,\n",
    "    storage=f\"sqlite:///{NOME_DO_ESTUDO}.db\",\n",
    "    load_if_exists=True,\n",
    ")"
   ]
  },
  {
   "cell_type": "markdown",
   "id": "b25d14c2",
   "metadata": {},
   "source": [
    "Agora, apenas precisamos definir uma função objetivo de forma que recebe apenas um argumento (devido ao funcionamento do método do Optuna). Especificamos aqui a `funcao_objetivo` com os argumentos que utilizaremos. Apesar do custo computacional mais elevado, o número de folds escolhido para a validação cruzada é considerado muito bom para a estimativa de performance."
   ]
  },
  {
   "cell_type": "code",
   "execution_count": 13,
   "id": "8a1b0b42",
   "metadata": {},
   "outputs": [],
   "source": [
    "NUM_FOLDS = 10\n",
    "\n",
    "def funcao_objetivo_parcial(trial):\n",
    "    return funcao_objetivo(trial, X_treino, y_treino, NUM_FOLDS)"
   ]
  },
  {
   "cell_type": "markdown",
   "id": "ddd71d8a",
   "metadata": {},
   "source": [
    "Com isso, vamos finalmente realizar a otimização:"
   ]
  },
  {
   "cell_type": "code",
   "execution_count": 14,
   "id": "9bddbccd",
   "metadata": {},
   "outputs": [
    {
     "name": "stderr",
     "output_type": "stream",
     "text": [
      "[I 2024-10-21 01:24:51,627] Trial 0 finished with value: 39.84685773554287 and parameters: {'num_arvores': 54, 'critério': 'friedman_mse', 'min_exemplos_split': 3, 'min_exemplos_folha': 1, 'num_max_atributos': 0.45270826035319256}. Best is trial 0 with value: 39.84685773554287.\n",
      "[I 2024-10-21 01:24:52,487] Trial 1 finished with value: 43.86652459140878 and parameters: {'num_arvores': 40, 'critério': 'friedman_mse', 'min_exemplos_split': 3, 'min_exemplos_folha': 6, 'num_max_atributos': 0.1937882606024136}. Best is trial 0 with value: 39.84685773554287.\n",
      "[I 2024-10-21 01:24:53,786] Trial 2 finished with value: 39.58153259633322 and parameters: {'num_arvores': 44, 'critério': 'squared_error', 'min_exemplos_split': 4, 'min_exemplos_folha': 1, 'num_max_atributos': 0.8330856121104075}. Best is trial 2 with value: 39.58153259633322.\n",
      "[I 2024-10-21 01:24:54,356] Trial 3 finished with value: 39.93814109589498 and parameters: {'num_arvores': 13, 'critério': 'poisson', 'min_exemplos_split': 2, 'min_exemplos_folha': 1, 'num_max_atributos': 0.9563239589039485}. Best is trial 2 with value: 39.58153259633322.\n",
      "[I 2024-10-21 01:24:55,521] Trial 4 finished with value: 41.777389026324855 and parameters: {'num_arvores': 19, 'critério': 'squared_error', 'min_exemplos_split': 8, 'min_exemplos_folha': 5, 'num_max_atributos': 0.5702578912056904}. Best is trial 2 with value: 39.58153259633322.\n",
      "[I 2024-10-21 01:25:01,381] Trial 5 finished with value: 39.61461075302908 and parameters: {'num_arvores': 68, 'critério': 'friedman_mse', 'min_exemplos_split': 3, 'min_exemplos_folha': 3, 'num_max_atributos': 0.8049170558977385}. Best is trial 2 with value: 39.58153259633322.\n",
      "[I 2024-10-21 01:25:03,332] Trial 6 finished with value: 39.943835078240284 and parameters: {'num_arvores': 40, 'critério': 'friedman_mse', 'min_exemplos_split': 11, 'min_exemplos_folha': 3, 'num_max_atributos': 0.7288186962829054}. Best is trial 2 with value: 39.58153259633322.\n",
      "[I 2024-10-21 01:25:04,741] Trial 7 finished with value: 41.763056336133566 and parameters: {'num_arvores': 78, 'critério': 'poisson', 'min_exemplos_split': 5, 'min_exemplos_folha': 1, 'num_max_atributos': 0.000201637087017148}. Best is trial 2 with value: 39.58153259633322.\n",
      "[I 2024-10-21 01:25:05,341] Trial 8 finished with value: 41.77244479663686 and parameters: {'num_arvores': 28, 'critério': 'poisson', 'min_exemplos_split': 14, 'min_exemplos_folha': 1, 'num_max_atributos': 0.0715864658639962}. Best is trial 2 with value: 39.58153259633322.\n",
      "[I 2024-10-21 01:25:06,195] Trial 9 finished with value: 43.90999424131751 and parameters: {'num_arvores': 10, 'critério': 'poisson', 'min_exemplos_split': 5, 'min_exemplos_folha': 5, 'num_max_atributos': 0.09804424597210615}. Best is trial 2 with value: 39.58153259633322.\n",
      "[I 2024-10-21 01:25:06,855] Trial 10 finished with value: 44.62921845282344 and parameters: {'num_arvores': 24, 'critério': 'squared_error', 'min_exemplos_split': 20, 'min_exemplos_folha': 16, 'num_max_atributos': 0.9850378818405883}. Best is trial 2 with value: 39.58153259633322.\n",
      "[I 2024-10-21 01:25:08,467] Trial 11 finished with value: 39.45904633057047 and parameters: {'num_arvores': 93, 'critério': 'squared_error', 'min_exemplos_split': 3, 'min_exemplos_folha': 2, 'num_max_atributos': 0.7705280949656036}. Best is trial 11 with value: 39.45904633057047.\n",
      "[I 2024-10-21 01:25:09,800] Trial 12 finished with value: 39.647401087695364 and parameters: {'num_arvores': 97, 'critério': 'squared_error', 'min_exemplos_split': 2, 'min_exemplos_folha': 2, 'num_max_atributos': 0.6925274688899639}. Best is trial 11 with value: 39.45904633057047.\n",
      "[I 2024-10-21 01:25:10,950] Trial 13 finished with value: 39.37840045501762 and parameters: {'num_arvores': 49, 'critério': 'squared_error', 'min_exemplos_split': 7, 'min_exemplos_folha': 2, 'num_max_atributos': 0.4436343816709154}. Best is trial 13 with value: 39.37840045501762.\n",
      "[I 2024-10-21 01:25:12,577] Trial 14 finished with value: 39.85437276707711 and parameters: {'num_arvores': 96, 'critério': 'squared_error', 'min_exemplos_split': 8, 'min_exemplos_folha': 2, 'num_max_atributos': 0.4220414242962879}. Best is trial 13 with value: 39.37840045501762.\n",
      "[I 2024-10-21 01:25:13,607] Trial 15 finished with value: 40.03164229834887 and parameters: {'num_arvores': 61, 'critério': 'squared_error', 'min_exemplos_split': 8, 'min_exemplos_folha': 2, 'num_max_atributos': 0.31892066545405606}. Best is trial 13 with value: 39.37840045501762.\n",
      "[I 2024-10-21 01:25:23,644] Trial 16 finished with value: 44.637414519285116 and parameters: {'num_arvores': 50, 'critério': 'squared_error', 'min_exemplos_split': 4, 'min_exemplos_folha': 13, 'num_max_atributos': 0.5765526053668864}. Best is trial 13 with value: 39.37840045501762.\n",
      "[I 2024-10-21 01:25:26,726] Trial 17 finished with value: 43.39853820841604 and parameters: {'num_arvores': 71, 'critério': 'squared_error', 'min_exemplos_split': 6, 'min_exemplos_folha': 8, 'num_max_atributos': 0.32690352335241585}. Best is trial 13 with value: 39.37840045501762.\n",
      "[I 2024-10-21 01:25:28,375] Trial 18 finished with value: 39.65833575522761 and parameters: {'num_arvores': 34, 'critério': 'squared_error', 'min_exemplos_split': 11, 'min_exemplos_folha': 2, 'num_max_atributos': 0.6071706533251895}. Best is trial 13 with value: 39.37840045501762.\n",
      "[I 2024-10-21 01:25:28,917] Trial 19 finished with value: 41.36314720927559 and parameters: {'num_arvores': 20, 'critério': 'squared_error', 'min_exemplos_split': 6, 'min_exemplos_folha': 3, 'num_max_atributos': 0.3544424233941717}. Best is trial 13 with value: 39.37840045501762.\n",
      "[I 2024-10-21 01:25:30,189] Trial 20 finished with value: 42.75656300666638 and parameters: {'num_arvores': 85, 'critério': 'squared_error', 'min_exemplos_split': 4, 'min_exemplos_folha': 8, 'num_max_atributos': 0.8422573515444274}. Best is trial 13 with value: 39.37840045501762.\n",
      "[I 2024-10-21 01:25:31,233] Trial 21 finished with value: 39.27389197829924 and parameters: {'num_arvores': 46, 'critério': 'squared_error', 'min_exemplos_split': 4, 'min_exemplos_folha': 2, 'num_max_atributos': 0.8826498675411576}. Best is trial 21 with value: 39.27389197829924.\n",
      "[I 2024-10-21 01:25:34,258] Trial 22 finished with value: 39.71089847661524 and parameters: {'num_arvores': 31, 'critério': 'squared_error', 'min_exemplos_split': 3, 'min_exemplos_folha': 2, 'num_max_atributos': 0.907978345105649}. Best is trial 21 with value: 39.27389197829924.\n",
      "[I 2024-10-21 01:25:38,242] Trial 23 finished with value: 40.3119162203009 and parameters: {'num_arvores': 56, 'critério': 'squared_error', 'min_exemplos_split': 2, 'min_exemplos_folha': 4, 'num_max_atributos': 0.7346680803141721}. Best is trial 21 with value: 39.27389197829924.\n",
      "[I 2024-10-21 01:25:44,492] Trial 24 finished with value: 39.67699112792805 and parameters: {'num_arvores': 45, 'critério': 'squared_error', 'min_exemplos_split': 4, 'min_exemplos_folha': 3, 'num_max_atributos': 0.6445852552852248}. Best is trial 21 with value: 39.27389197829924.\n",
      "[I 2024-10-21 01:25:45,427] Trial 25 finished with value: 39.729420629694935 and parameters: {'num_arvores': 35, 'critério': 'squared_error', 'min_exemplos_split': 7, 'min_exemplos_folha': 2, 'num_max_atributos': 0.5203754970238257}. Best is trial 21 with value: 39.27389197829924.\n",
      "[I 2024-10-21 01:25:50,839] Trial 26 finished with value: 40.35556843105006 and parameters: {'num_arvores': 64, 'critério': 'squared_error', 'min_exemplos_split': 10, 'min_exemplos_folha': 4, 'num_max_atributos': 0.8860587782430859}. Best is trial 21 with value: 39.27389197829924.\n",
      "[I 2024-10-21 01:25:54,944] Trial 27 finished with value: 40.515729798231234 and parameters: {'num_arvores': 26, 'critério': 'squared_error', 'min_exemplos_split': 5, 'min_exemplos_folha': 4, 'num_max_atributos': 0.7525134748114635}. Best is trial 21 with value: 39.27389197829924.\n",
      "[I 2024-10-21 01:25:57,384] Trial 28 finished with value: 41.39768948446347 and parameters: {'num_arvores': 79, 'critério': 'poisson', 'min_exemplos_split': 15, 'min_exemplos_folha': 2, 'num_max_atributos': 0.20662804862754885}. Best is trial 21 with value: 39.27389197829924.\n",
      "[I 2024-10-21 01:25:59,385] Trial 29 finished with value: 43.300498394229685 and parameters: {'num_arvores': 51, 'critério': 'friedman_mse', 'min_exemplos_split': 3, 'min_exemplos_folha': 9, 'num_max_atributos': 0.47035690902296867}. Best is trial 21 with value: 39.27389197829924.\n",
      "[I 2024-10-21 01:26:00,409] Trial 30 finished with value: 39.605818105056215 and parameters: {'num_arvores': 59, 'critério': 'friedman_mse', 'min_exemplos_split': 7, 'min_exemplos_folha': 1, 'num_max_atributos': 0.3992878990954448}. Best is trial 21 with value: 39.27389197829924.\n",
      "[I 2024-10-21 01:26:02,155] Trial 31 finished with value: 39.50368674368012 and parameters: {'num_arvores': 42, 'critério': 'squared_error', 'min_exemplos_split': 4, 'min_exemplos_folha': 1, 'num_max_atributos': 0.8089254863891377}. Best is trial 21 with value: 39.27389197829924.\n",
      "[I 2024-10-21 01:26:03,260] Trial 32 finished with value: 40.1348240339953 and parameters: {'num_arvores': 39, 'critério': 'squared_error', 'min_exemplos_split': 4, 'min_exemplos_folha': 3, 'num_max_atributos': 0.7927564162502097}. Best is trial 21 with value: 39.27389197829924.\n",
      "[I 2024-10-21 01:26:04,312] Trial 33 finished with value: 39.57512345207456 and parameters: {'num_arvores': 48, 'critério': 'squared_error', 'min_exemplos_split': 5, 'min_exemplos_folha': 1, 'num_max_atributos': 0.6610784558535503}. Best is trial 21 with value: 39.27389197829924.\n",
      "[I 2024-10-21 01:26:05,007] Trial 34 finished with value: 39.472441345418346 and parameters: {'num_arvores': 39, 'critério': 'squared_error', 'min_exemplos_split': 3, 'min_exemplos_folha': 2, 'num_max_atributos': 0.92890704676126}. Best is trial 21 with value: 39.27389197829924.\n",
      "[I 2024-10-21 01:26:05,950] Trial 35 finished with value: 40.31845102028967 and parameters: {'num_arvores': 34, 'critério': 'squared_error', 'min_exemplos_split': 3, 'min_exemplos_folha': 4, 'num_max_atributos': 0.9302816440026621}. Best is trial 21 with value: 39.27389197829924.\n",
      "[I 2024-10-21 01:26:06,628] Trial 36 finished with value: 39.575925513504444 and parameters: {'num_arvores': 19, 'critério': 'friedman_mse', 'min_exemplos_split': 2, 'min_exemplos_folha': 2, 'num_max_atributos': 0.8815376558959235}. Best is trial 21 with value: 39.27389197829924.\n",
      "[I 2024-10-21 01:26:07,274] Trial 37 finished with value: 41.463738737903384 and parameters: {'num_arvores': 22, 'critério': 'squared_error', 'min_exemplos_split': 6, 'min_exemplos_folha': 5, 'num_max_atributos': 0.996292314092948}. Best is trial 21 with value: 39.27389197829924.\n",
      "[I 2024-10-21 01:26:07,985] Trial 38 finished with value: 40.33306470124308 and parameters: {'num_arvores': 15, 'critério': 'poisson', 'min_exemplos_split': 3, 'min_exemplos_folha': 3, 'num_max_atributos': 0.8521220116046092}. Best is trial 21 with value: 39.27389197829924.\n",
      "[I 2024-10-21 01:26:08,767] Trial 39 finished with value: 45.28557616429261 and parameters: {'num_arvores': 37, 'critério': 'squared_error', 'min_exemplos_split': 9, 'min_exemplos_folha': 20, 'num_max_atributos': 0.5281907000766062}. Best is trial 21 with value: 39.27389197829924.\n",
      "[I 2024-10-21 01:26:09,346] Trial 40 finished with value: 42.21274225163866 and parameters: {'num_arvores': 30, 'critério': 'friedman_mse', 'min_exemplos_split': 5, 'min_exemplos_folha': 3, 'num_max_atributos': 0.25443343433210264}. Best is trial 21 with value: 39.27389197829924.\n",
      "[I 2024-10-21 01:26:10,447] Trial 41 finished with value: 39.55466159590173 and parameters: {'num_arvores': 45, 'critério': 'squared_error', 'min_exemplos_split': 4, 'min_exemplos_folha': 1, 'num_max_atributos': 0.7798523084794151}. Best is trial 21 with value: 39.27389197829924.\n",
      "[I 2024-10-21 01:26:11,563] Trial 42 finished with value: 39.06867320255601 and parameters: {'num_arvores': 41, 'critério': 'squared_error', 'min_exemplos_split': 4, 'min_exemplos_folha': 1, 'num_max_atributos': 0.9324693468935253}. Best is trial 42 with value: 39.06867320255601.\n",
      "[I 2024-10-21 01:26:12,717] Trial 43 finished with value: 39.34914072211467 and parameters: {'num_arvores': 69, 'critério': 'squared_error', 'min_exemplos_split': 7, 'min_exemplos_folha': 2, 'num_max_atributos': 0.944001647359579}. Best is trial 42 with value: 39.06867320255601.\n",
      "[I 2024-10-21 01:26:14,098] Trial 44 finished with value: 41.182754611049525 and parameters: {'num_arvores': 71, 'critério': 'squared_error', 'min_exemplos_split': 7, 'min_exemplos_folha': 5, 'num_max_atributos': 0.9588912139483229}. Best is trial 42 with value: 39.06867320255601.\n",
      "[I 2024-10-21 01:26:15,985] Trial 45 finished with value: 39.84040906139276 and parameters: {'num_arvores': 85, 'critério': 'poisson', 'min_exemplos_split': 6, 'min_exemplos_folha': 2, 'num_max_atributos': 0.8614300562224487}. Best is trial 42 with value: 39.06867320255601.\n",
      "[I 2024-10-21 01:26:17,047] Trial 46 finished with value: 42.13405326249348 and parameters: {'num_arvores': 56, 'critério': 'squared_error', 'min_exemplos_split': 9, 'min_exemplos_folha': 6, 'num_max_atributos': 0.9564988324581088}. Best is trial 42 with value: 39.06867320255601.\n",
      "[I 2024-10-21 01:26:18,718] Trial 47 finished with value: 39.21015825847783 and parameters: {'num_arvores': 100, 'critério': 'squared_error', 'min_exemplos_split': 13, 'min_exemplos_folha': 1, 'num_max_atributos': 0.8249032753452764}. Best is trial 42 with value: 39.06867320255601.\n",
      "[I 2024-10-21 01:26:19,839] Trial 48 finished with value: 38.77517940676472 and parameters: {'num_arvores': 70, 'critério': 'squared_error', 'min_exemplos_split': 19, 'min_exemplos_folha': 1, 'num_max_atributos': 0.9984161068194167}. Best is trial 48 with value: 38.77517940676472.\n",
      "[I 2024-10-21 01:26:22,341] Trial 49 finished with value: 38.84050272539068 and parameters: {'num_arvores': 67, 'critério': 'squared_error', 'min_exemplos_split': 19, 'min_exemplos_folha': 1, 'num_max_atributos': 0.9858413043835768}. Best is trial 48 with value: 38.77517940676472.\n",
      "[I 2024-10-21 01:26:26,767] Trial 50 finished with value: 39.36468658043124 and parameters: {'num_arvores': 87, 'critério': 'poisson', 'min_exemplos_split': 19, 'min_exemplos_folha': 1, 'num_max_atributos': 0.9951766756405926}. Best is trial 48 with value: 38.77517940676472.\n",
      "[I 2024-10-21 01:26:29,744] Trial 51 finished with value: 38.8050345455829 and parameters: {'num_arvores': 66, 'critério': 'squared_error', 'min_exemplos_split': 17, 'min_exemplos_folha': 1, 'num_max_atributos': 0.9152080265621316}. Best is trial 48 with value: 38.77517940676472.\n",
      "[I 2024-10-21 01:26:31,247] Trial 52 finished with value: 39.264111729643005 and parameters: {'num_arvores': 79, 'critério': 'squared_error', 'min_exemplos_split': 16, 'min_exemplos_folha': 1, 'num_max_atributos': 0.8966084757578255}. Best is trial 48 with value: 38.77517940676472.\n",
      "[I 2024-10-21 01:26:32,699] Trial 53 finished with value: 38.99347394616366 and parameters: {'num_arvores': 76, 'critério': 'squared_error', 'min_exemplos_split': 17, 'min_exemplos_folha': 1, 'num_max_atributos': 0.8158813511513021}. Best is trial 48 with value: 38.77517940676472.\n",
      "[I 2024-10-21 01:26:37,105] Trial 54 finished with value: 39.1281786663336 and parameters: {'num_arvores': 99, 'critério': 'squared_error', 'min_exemplos_split': 18, 'min_exemplos_folha': 1, 'num_max_atributos': 0.8227322107725107}. Best is trial 48 with value: 38.77517940676472.\n",
      "[I 2024-10-21 01:26:40,099] Trial 55 finished with value: 38.90895754430253 and parameters: {'num_arvores': 65, 'critério': 'squared_error', 'min_exemplos_split': 18, 'min_exemplos_folha': 1, 'num_max_atributos': 0.9718544803744817}. Best is trial 48 with value: 38.77517940676472.\n",
      "[I 2024-10-21 01:26:42,174] Trial 56 finished with value: 38.72658226133232 and parameters: {'num_arvores': 73, 'critério': 'squared_error', 'min_exemplos_split': 17, 'min_exemplos_folha': 1, 'num_max_atributos': 0.9654360478049108}. Best is trial 56 with value: 38.72658226133232.\n",
      "[I 2024-10-21 01:26:43,197] Trial 57 finished with value: 38.8050345455829 and parameters: {'num_arvores': 66, 'critério': 'squared_error', 'min_exemplos_split': 17, 'min_exemplos_folha': 1, 'num_max_atributos': 0.9766042023407158}. Best is trial 56 with value: 38.72658226133232.\n",
      "[I 2024-10-21 01:26:44,976] Trial 58 finished with value: 38.959858310723696 and parameters: {'num_arvores': 52, 'critério': 'squared_error', 'min_exemplos_split': 13, 'min_exemplos_folha': 1, 'num_max_atributos': 0.9727175231043769}. Best is trial 56 with value: 38.72658226133232.\n",
      "[I 2024-10-21 01:26:46,159] Trial 59 finished with value: 44.41288324745917 and parameters: {'num_arvores': 62, 'critério': 'friedman_mse', 'min_exemplos_split': 20, 'min_exemplos_folha': 12, 'num_max_atributos': 0.9939798450904606}. Best is trial 56 with value: 38.72658226133232.\n",
      "[I 2024-10-21 01:26:47,558] Trial 60 finished with value: 38.81380625864222 and parameters: {'num_arvores': 67, 'critério': 'squared_error', 'min_exemplos_split': 14, 'min_exemplos_folha': 1, 'num_max_atributos': 0.9093755422679948}. Best is trial 56 with value: 38.72658226133232.\n",
      "[I 2024-10-21 01:26:49,104] Trial 61 finished with value: 38.81380625864222 and parameters: {'num_arvores': 67, 'critério': 'squared_error', 'min_exemplos_split': 14, 'min_exemplos_folha': 1, 'num_max_atributos': 0.9127323946537421}. Best is trial 56 with value: 38.72658226133232.\n",
      "[I 2024-10-21 01:27:00,673] Trial 62 finished with value: 38.782233027776186 and parameters: {'num_arvores': 72, 'critério': 'squared_error', 'min_exemplos_split': 14, 'min_exemplos_folha': 1, 'num_max_atributos': 0.9127635843589512}. Best is trial 56 with value: 38.72658226133232.\n",
      "[I 2024-10-21 01:27:02,547] Trial 63 finished with value: 38.80107626261939 and parameters: {'num_arvores': 75, 'critério': 'squared_error', 'min_exemplos_split': 14, 'min_exemplos_folha': 1, 'num_max_atributos': 0.9081401248212204}. Best is trial 56 with value: 38.72658226133232.\n",
      "[I 2024-10-21 01:27:08,344] Trial 64 finished with value: 39.19160642259095 and parameters: {'num_arvores': 73, 'critério': 'squared_error', 'min_exemplos_split': 12, 'min_exemplos_folha': 1, 'num_max_atributos': 0.878868685351324}. Best is trial 56 with value: 38.72658226133232.\n",
      "[I 2024-10-21 01:27:13,031] Trial 65 finished with value: 39.300005238431645 and parameters: {'num_arvores': 88, 'critério': 'squared_error', 'min_exemplos_split': 16, 'min_exemplos_folha': 1, 'num_max_atributos': 0.7064963440961934}. Best is trial 56 with value: 38.72658226133232.\n",
      "[I 2024-10-21 01:27:18,149] Trial 66 finished with value: 39.06797267965926 and parameters: {'num_arvores': 57, 'critério': 'squared_error', 'min_exemplos_split': 15, 'min_exemplos_folha': 1, 'num_max_atributos': 0.8534457589687336}. Best is trial 56 with value: 38.72658226133232.\n",
      "[I 2024-10-21 01:27:21,760] Trial 67 finished with value: 42.10156754953557 and parameters: {'num_arvores': 80, 'critério': 'squared_error', 'min_exemplos_split': 11, 'min_exemplos_folha': 6, 'num_max_atributos': 0.9153087673937667}. Best is trial 56 with value: 38.72658226133232.\n",
      "[I 2024-10-21 01:27:31,735] Trial 68 finished with value: 38.96293287614255 and parameters: {'num_arvores': 91, 'critério': 'squared_error', 'min_exemplos_split': 14, 'min_exemplos_folha': 1, 'num_max_atributos': 0.9561502618728283}. Best is trial 56 with value: 38.72658226133232.\n",
      "[I 2024-10-21 01:27:33,128] Trial 69 finished with value: 44.44982973248767 and parameters: {'num_arvores': 74, 'critério': 'poisson', 'min_exemplos_split': 12, 'min_exemplos_folha': 13, 'num_max_atributos': 0.9060318186490909}. Best is trial 56 with value: 38.72658226133232.\n",
      "[I 2024-10-21 01:27:34,087] Trial 70 finished with value: 42.02050343371372 and parameters: {'num_arvores': 60, 'critério': 'squared_error', 'min_exemplos_split': 16, 'min_exemplos_folha': 6, 'num_max_atributos': 0.7650695195124863}. Best is trial 56 with value: 38.72658226133232.\n",
      "[I 2024-10-21 01:27:35,261] Trial 71 finished with value: 43.6607081513014 and parameters: {'num_arvores': 67, 'critério': 'squared_error', 'min_exemplos_split': 14, 'min_exemplos_folha': 10, 'num_max_atributos': 0.91850685748704}. Best is trial 56 with value: 38.72658226133232.\n",
      "[I 2024-10-21 01:27:36,789] Trial 72 finished with value: 39.01118944209335 and parameters: {'num_arvores': 81, 'critério': 'squared_error', 'min_exemplos_split': 17, 'min_exemplos_folha': 1, 'num_max_atributos': 0.8658977028678532}. Best is trial 56 with value: 38.72658226133232.\n",
      "[I 2024-10-21 01:27:38,019] Trial 73 finished with value: 38.863991411213874 and parameters: {'num_arvores': 62, 'critério': 'squared_error', 'min_exemplos_split': 15, 'min_exemplos_folha': 1, 'num_max_atributos': 0.9475095070432625}. Best is trial 56 with value: 38.72658226133232.\n",
      "[I 2024-10-21 01:27:39,173] Trial 74 finished with value: 42.412079060064045 and parameters: {'num_arvores': 71, 'critério': 'squared_error', 'min_exemplos_split': 13, 'min_exemplos_folha': 7, 'num_max_atributos': 0.8976161149163755}. Best is trial 56 with value: 38.72658226133232.\n",
      "[I 2024-10-21 01:27:40,564] Trial 75 finished with value: 38.795097741686035 and parameters: {'num_arvores': 54, 'critério': 'squared_error', 'min_exemplos_split': 20, 'min_exemplos_folha': 1, 'num_max_atributos': 0.9283547395005067}. Best is trial 56 with value: 38.72658226133232.\n",
      "[I 2024-10-21 01:27:41,421] Trial 76 finished with value: 38.89157344008784 and parameters: {'num_arvores': 55, 'critério': 'squared_error', 'min_exemplos_split': 20, 'min_exemplos_folha': 1, 'num_max_atributos': 0.8393107049084264}. Best is trial 56 with value: 38.72658226133232.\n",
      "[I 2024-10-21 01:27:42,358] Trial 77 finished with value: 38.76303205519951 and parameters: {'num_arvores': 52, 'critério': 'friedman_mse', 'min_exemplos_split': 17, 'min_exemplos_folha': 1, 'num_max_atributos': 0.9662015684896421}. Best is trial 56 with value: 38.72658226133232.\n",
      "[I 2024-10-21 01:27:43,570] Trial 78 finished with value: 45.2113566322005 and parameters: {'num_arvores': 59, 'critério': 'friedman_mse', 'min_exemplos_split': 17, 'min_exemplos_folha': 19, 'num_max_atributos': 0.972171182051956}. Best is trial 56 with value: 38.72658226133232.\n",
      "[I 2024-10-21 01:27:44,723] Trial 79 finished with value: 38.79653472041253 and parameters: {'num_arvores': 53, 'critério': 'friedman_mse', 'min_exemplos_split': 18, 'min_exemplos_folha': 1, 'num_max_atributos': 0.9389071517073863}. Best is trial 56 with value: 38.72658226133232.\n",
      "[I 2024-10-21 01:27:47,074] Trial 80 finished with value: 38.79229537843971 and parameters: {'num_arvores': 52, 'critério': 'friedman_mse', 'min_exemplos_split': 19, 'min_exemplos_folha': 1, 'num_max_atributos': 0.9402524519532084}. Best is trial 56 with value: 38.72658226133232.\n",
      "[I 2024-10-21 01:27:48,381] Trial 81 finished with value: 38.79295931387689 and parameters: {'num_arvores': 48, 'critério': 'friedman_mse', 'min_exemplos_split': 19, 'min_exemplos_folha': 1, 'num_max_atributos': 0.9362807406127883}. Best is trial 56 with value: 38.72658226133232.\n",
      "[I 2024-10-21 01:27:49,296] Trial 82 finished with value: 38.866581776155094 and parameters: {'num_arvores': 52, 'critério': 'friedman_mse', 'min_exemplos_split': 19, 'min_exemplos_folha': 1, 'num_max_atributos': 0.8784462601030752}. Best is trial 56 with value: 38.72658226133232.\n",
      "[I 2024-10-21 01:27:50,201] Trial 83 finished with value: 38.83372168461509 and parameters: {'num_arvores': 48, 'critério': 'friedman_mse', 'min_exemplos_split': 18, 'min_exemplos_folha': 1, 'num_max_atributos': 0.9396125088998682}. Best is trial 56 with value: 38.72658226133232.\n",
      "[I 2024-10-21 01:27:51,255] Trial 84 finished with value: 38.79073367511254 and parameters: {'num_arvores': 49, 'critério': 'friedman_mse', 'min_exemplos_split': 19, 'min_exemplos_folha': 1, 'num_max_atributos': 0.9444597168452421}. Best is trial 56 with value: 38.72658226133232.\n",
      "[I 2024-10-21 01:27:53,573] Trial 85 finished with value: 38.83456399719183 and parameters: {'num_arvores': 42, 'critério': 'friedman_mse', 'min_exemplos_split': 20, 'min_exemplos_folha': 1, 'num_max_atributos': 0.9411074878540423}. Best is trial 56 with value: 38.72658226133232.\n",
      "[I 2024-10-21 01:27:57,155] Trial 86 finished with value: 41.58150878656723 and parameters: {'num_arvores': 46, 'critério': 'friedman_mse', 'min_exemplos_split': 19, 'min_exemplos_folha': 1, 'num_max_atributos': 0.08246129429359605}. Best is trial 56 with value: 38.72658226133232.\n",
      "[I 2024-10-21 01:27:58,765] Trial 87 finished with value: 41.25234660668542 and parameters: {'num_arvores': 54, 'critério': 'friedman_mse', 'min_exemplos_split': 16, 'min_exemplos_folha': 1, 'num_max_atributos': 0.017965889953615366}. Best is trial 56 with value: 38.72658226133232.\n",
      "[I 2024-10-21 01:28:01,040] Trial 88 finished with value: 44.48463254261557 and parameters: {'num_arvores': 44, 'critério': 'friedman_mse', 'min_exemplos_split': 18, 'min_exemplos_folha': 14, 'num_max_atributos': 0.9913628226831892}. Best is trial 56 with value: 38.72658226133232.\n",
      "[I 2024-10-21 01:28:02,284] Trial 89 finished with value: 43.4654905873639 and parameters: {'num_arvores': 50, 'critério': 'friedman_mse', 'min_exemplos_split': 15, 'min_exemplos_folha': 10, 'num_max_atributos': 0.9411781164796353}. Best is trial 56 with value: 38.72658226133232.\n",
      "[I 2024-10-21 01:28:05,747] Trial 90 finished with value: 39.17161514944556 and parameters: {'num_arvores': 48, 'critério': 'friedman_mse', 'min_exemplos_split': 20, 'min_exemplos_folha': 1, 'num_max_atributos': 0.7944696271733408}. Best is trial 56 with value: 38.72658226133232.\n",
      "[I 2024-10-21 01:28:10,136] Trial 91 finished with value: 38.87768135337844 and parameters: {'num_arvores': 37, 'critério': 'friedman_mse', 'min_exemplos_split': 18, 'min_exemplos_folha': 1, 'num_max_atributos': 0.9606915221827492}. Best is trial 56 with value: 38.72658226133232.\n",
      "[I 2024-10-21 01:28:11,439] Trial 92 finished with value: 39.13796597869417 and parameters: {'num_arvores': 53, 'critério': 'friedman_mse', 'min_exemplos_split': 16, 'min_exemplos_folha': 1, 'num_max_atributos': 0.872120876660919}. Best is trial 56 with value: 38.72658226133232.\n",
      "[I 2024-10-21 01:28:12,743] Trial 93 finished with value: 38.79567993364138 and parameters: {'num_arvores': 57, 'critério': 'friedman_mse', 'min_exemplos_split': 15, 'min_exemplos_folha': 1, 'num_max_atributos': 0.9986203924339405}. Best is trial 56 with value: 38.72658226133232.\n",
      "[I 2024-10-21 01:28:18,399] Trial 94 finished with value: 38.849201136263005 and parameters: {'num_arvores': 59, 'critério': 'friedman_mse', 'min_exemplos_split': 15, 'min_exemplos_folha': 1, 'num_max_atributos': 0.9946138661028113}. Best is trial 56 with value: 38.72658226133232.\n",
      "[I 2024-10-21 01:28:19,521] Trial 95 finished with value: 38.79073367511254 and parameters: {'num_arvores': 49, 'critério': 'friedman_mse', 'min_exemplos_split': 19, 'min_exemplos_folha': 1, 'num_max_atributos': 0.9641910689058669}. Best is trial 56 with value: 38.72658226133232.\n",
      "[I 2024-10-21 01:28:20,443] Trial 96 finished with value: 44.81784201699116 and parameters: {'num_arvores': 46, 'critério': 'friedman_mse', 'min_exemplos_split': 19, 'min_exemplos_folha': 16, 'num_max_atributos': 0.9987900407819442}. Best is trial 56 with value: 38.72658226133232.\n",
      "[I 2024-10-21 01:28:21,724] Trial 97 finished with value: 38.77882694366867 and parameters: {'num_arvores': 57, 'critério': 'friedman_mse', 'min_exemplos_split': 17, 'min_exemplos_folha': 1, 'num_max_atributos': 0.9682530671219606}. Best is trial 56 with value: 38.72658226133232.\n",
      "[I 2024-10-21 01:28:22,804] Trial 98 finished with value: 42.517674837353205 and parameters: {'num_arvores': 63, 'critério': 'friedman_mse', 'min_exemplos_split': 17, 'min_exemplos_folha': 7, 'num_max_atributos': 0.8460990955209285}. Best is trial 56 with value: 38.72658226133232.\n",
      "[I 2024-10-21 01:28:23,932] Trial 99 finished with value: 38.79364156820087 and parameters: {'num_arvores': 49, 'critério': 'friedman_mse', 'min_exemplos_split': 20, 'min_exemplos_folha': 1, 'num_max_atributos': 0.967236285754795}. Best is trial 56 with value: 38.72658226133232.\n",
      "[I 2024-10-21 01:28:24,942] Trial 100 finished with value: 38.79073367511254 and parameters: {'num_arvores': 49, 'critério': 'friedman_mse', 'min_exemplos_split': 19, 'min_exemplos_folha': 1, 'num_max_atributos': 0.9669604769357993}. Best is trial 56 with value: 38.72658226133232.\n",
      "[I 2024-10-21 01:28:25,561] Trial 101 finished with value: 39.09401516087291 and parameters: {'num_arvores': 10, 'critério': 'friedman_mse', 'min_exemplos_split': 19, 'min_exemplos_folha': 1, 'num_max_atributos': 0.9674419542625322}. Best is trial 56 with value: 38.72658226133232.\n",
      "[I 2024-10-21 01:28:26,467] Trial 102 finished with value: 38.783193992918534 and parameters: {'num_arvores': 43, 'critério': 'friedman_mse', 'min_exemplos_split': 16, 'min_exemplos_folha': 1, 'num_max_atributos': 0.9607552355717071}. Best is trial 56 with value: 38.72658226133232.\n",
      "[I 2024-10-21 01:28:27,430] Trial 103 finished with value: 39.13723949378768 and parameters: {'num_arvores': 43, 'critério': 'friedman_mse', 'min_exemplos_split': 16, 'min_exemplos_folha': 1, 'num_max_atributos': 0.8937306521028453}. Best is trial 56 with value: 38.72658226133232.\n",
      "[I 2024-10-21 01:28:28,053] Trial 104 finished with value: 39.4554178708924 and parameters: {'num_arvores': 12, 'critério': 'friedman_mse', 'min_exemplos_split': 17, 'min_exemplos_folha': 1, 'num_max_atributos': 0.9573128357463488}. Best is trial 56 with value: 38.72658226133232.\n",
      "[I 2024-10-21 01:28:28,991] Trial 105 finished with value: 38.75460156133282 and parameters: {'num_arvores': 40, 'critério': 'friedman_mse', 'min_exemplos_split': 18, 'min_exemplos_folha': 1, 'num_max_atributos': 0.9750473928219942}. Best is trial 56 with value: 38.72658226133232.\n",
      "[I 2024-10-21 01:28:29,817] Trial 106 finished with value: 42.59429017262626 and parameters: {'num_arvores': 35, 'critério': 'friedman_mse', 'min_exemplos_split': 12, 'min_exemplos_folha': 8, 'num_max_atributos': 0.9789940883466032}. Best is trial 56 with value: 38.72658226133232.\n",
      "[I 2024-10-21 01:28:30,777] Trial 107 finished with value: 40.382970310954974 and parameters: {'num_arvores': 37, 'critério': 'friedman_mse', 'min_exemplos_split': 18, 'min_exemplos_folha': 4, 'num_max_atributos': 0.893347741227437}. Best is trial 56 with value: 38.72658226133232.\n",
      "[I 2024-10-21 01:28:31,453] Trial 108 finished with value: 41.302327295432775 and parameters: {'num_arvores': 40, 'critério': 'friedman_mse', 'min_exemplos_split': 16, 'min_exemplos_folha': 1, 'num_max_atributos': 0.13404360176916763}. Best is trial 56 with value: 38.72658226133232.\n",
      "[I 2024-10-21 01:28:32,340] Trial 109 finished with value: 41.402852535324215 and parameters: {'num_arvores': 44, 'critério': 'friedman_mse', 'min_exemplos_split': 13, 'min_exemplos_folha': 5, 'num_max_atributos': 0.9255956242419308}. Best is trial 56 with value: 38.72658226133232.\n",
      "[I 2024-10-21 01:28:33,491] Trial 110 finished with value: 38.72140298861781 and parameters: {'num_arvores': 51, 'critério': 'friedman_mse', 'min_exemplos_split': 17, 'min_exemplos_folha': 1, 'num_max_atributos': 0.957470194843517}. Best is trial 110 with value: 38.72140298861781.\n",
      "[I 2024-10-21 01:28:34,695] Trial 111 finished with value: 38.6947222091576 and parameters: {'num_arvores': 50, 'critério': 'friedman_mse', 'min_exemplos_split': 17, 'min_exemplos_folha': 1, 'num_max_atributos': 0.9777417834421356}. Best is trial 111 with value: 38.6947222091576.\n",
      "[I 2024-10-21 01:28:35,837] Trial 112 finished with value: 38.8254844758596 and parameters: {'num_arvores': 46, 'critério': 'friedman_mse', 'min_exemplos_split': 15, 'min_exemplos_folha': 1, 'num_max_atributos': 0.9685478156401832}. Best is trial 111 with value: 38.6947222091576.\n",
      "[I 2024-10-21 01:28:36,702] Trial 113 finished with value: 38.882518699824786 and parameters: {'num_arvores': 32, 'critério': 'friedman_mse', 'min_exemplos_split': 17, 'min_exemplos_folha': 1, 'num_max_atributos': 0.9568033861032931}. Best is trial 111 with value: 38.6947222091576.\n",
      "[I 2024-10-21 01:28:37,741] Trial 114 finished with value: 38.77443032471716 and parameters: {'num_arvores': 39, 'critério': 'friedman_mse', 'min_exemplos_split': 18, 'min_exemplos_folha': 1, 'num_max_atributos': 0.9790841628023614}. Best is trial 111 with value: 38.6947222091576.\n",
      "[I 2024-10-21 01:28:38,768] Trial 115 finished with value: 38.74742287899127 and parameters: {'num_arvores': 38, 'critério': 'friedman_mse', 'min_exemplos_split': 16, 'min_exemplos_folha': 1, 'num_max_atributos': 0.9833807696590634}. Best is trial 111 with value: 38.6947222091576.\n",
      "[I 2024-10-21 01:28:39,802] Trial 116 finished with value: 39.171811861741006 and parameters: {'num_arvores': 38, 'critério': 'poisson', 'min_exemplos_split': 16, 'min_exemplos_folha': 1, 'num_max_atributos': 0.9844568727172723}. Best is trial 111 with value: 38.6947222091576.\n",
      "[I 2024-10-21 01:28:40,684] Trial 117 finished with value: 38.7922396843618 and parameters: {'num_arvores': 28, 'critério': 'friedman_mse', 'min_exemplos_split': 17, 'min_exemplos_folha': 1, 'num_max_atributos': 0.9152496354317986}. Best is trial 111 with value: 38.6947222091576.\n",
      "[I 2024-10-21 01:28:41,557] Trial 118 finished with value: 38.80632371137106 and parameters: {'num_arvores': 35, 'critério': 'friedman_mse', 'min_exemplos_split': 14, 'min_exemplos_folha': 1, 'num_max_atributos': 0.9825405964778037}. Best is trial 111 with value: 38.6947222091576.\n",
      "[I 2024-10-21 01:28:42,538] Trial 119 finished with value: 38.90380125051048 and parameters: {'num_arvores': 44, 'critério': 'friedman_mse', 'min_exemplos_split': 15, 'min_exemplos_folha': 1, 'num_max_atributos': 0.8906638602556183}. Best is trial 111 with value: 38.6947222091576.\n",
      "[I 2024-10-21 01:28:43,310] Trial 120 finished with value: 43.89145315716242 and parameters: {'num_arvores': 33, 'critério': 'friedman_mse', 'min_exemplos_split': 18, 'min_exemplos_folha': 11, 'num_max_atributos': 0.9239493279550919}. Best is trial 111 with value: 38.6947222091576.\n",
      "[I 2024-10-21 01:28:44,179] Trial 121 finished with value: 38.79264950869375 and parameters: {'num_arvores': 41, 'critério': 'friedman_mse', 'min_exemplos_split': 18, 'min_exemplos_folha': 1, 'num_max_atributos': 0.955936060839844}. Best is trial 111 with value: 38.6947222091576.\n",
      "[I 2024-10-21 01:28:44,986] Trial 122 finished with value: 39.46905357518869 and parameters: {'num_arvores': 40, 'critério': 'friedman_mse', 'min_exemplos_split': 16, 'min_exemplos_folha': 1, 'num_max_atributos': 0.5795475897402269}. Best is trial 111 with value: 38.6947222091576.\n",
      "[I 2024-10-21 01:28:45,992] Trial 123 finished with value: 38.72283587278538 and parameters: {'num_arvores': 42, 'critério': 'friedman_mse', 'min_exemplos_split': 17, 'min_exemplos_folha': 1, 'num_max_atributos': 0.9790770487172475}. Best is trial 111 with value: 38.6947222091576.\n",
      "[I 2024-10-21 01:28:46,970] Trial 124 finished with value: 38.72283587278538 and parameters: {'num_arvores': 42, 'critério': 'friedman_mse', 'min_exemplos_split': 17, 'min_exemplos_folha': 1, 'num_max_atributos': 0.9972257003053098}. Best is trial 111 with value: 38.6947222091576.\n",
      "[I 2024-10-21 01:28:47,858] Trial 125 finished with value: 38.74145492665599 and parameters: {'num_arvores': 38, 'critério': 'friedman_mse', 'min_exemplos_split': 17, 'min_exemplos_folha': 1, 'num_max_atributos': 0.9985165856583391}. Best is trial 111 with value: 38.6947222091576.\n",
      "[I 2024-10-21 01:28:48,676] Trial 126 finished with value: 38.74145492665599 and parameters: {'num_arvores': 38, 'critério': 'friedman_mse', 'min_exemplos_split': 17, 'min_exemplos_folha': 1, 'num_max_atributos': 0.9973593136193746}. Best is trial 111 with value: 38.6947222091576.\n",
      "[I 2024-10-21 01:28:49,485] Trial 127 finished with value: 38.85959047952992 and parameters: {'num_arvores': 30, 'critério': 'friedman_mse', 'min_exemplos_split': 17, 'min_exemplos_folha': 1, 'num_max_atributos': 0.9951333342624474}. Best is trial 111 with value: 38.6947222091576.\n",
      "[I 2024-10-21 01:28:50,431] Trial 128 finished with value: 38.94361221156927 and parameters: {'num_arvores': 38, 'critério': 'friedman_mse', 'min_exemplos_split': 13, 'min_exemplos_folha': 1, 'num_max_atributos': 0.979138491303113}. Best is trial 111 with value: 38.6947222091576.\n",
      "[I 2024-10-21 01:28:51,359] Trial 129 finished with value: 38.934245491297474 and parameters: {'num_arvores': 35, 'critério': 'friedman_mse', 'min_exemplos_split': 17, 'min_exemplos_folha': 1, 'num_max_atributos': 0.9988421135230541}. Best is trial 111 with value: 38.6947222091576.\n",
      "[I 2024-10-21 01:28:55,003] Trial 130 finished with value: 38.77443032471717 and parameters: {'num_arvores': 39, 'critério': 'friedman_mse', 'min_exemplos_split': 18, 'min_exemplos_folha': 1, 'num_max_atributos': 0.9772667459260921}. Best is trial 111 with value: 38.6947222091576.\n",
      "[I 2024-10-21 01:28:58,818] Trial 131 finished with value: 38.77443032471716 and parameters: {'num_arvores': 39, 'critério': 'friedman_mse', 'min_exemplos_split': 18, 'min_exemplos_folha': 1, 'num_max_atributos': 0.9995789939893989}. Best is trial 111 with value: 38.6947222091576.\n",
      "[I 2024-10-21 01:28:59,769] Trial 132 finished with value: 38.92004820312367 and parameters: {'num_arvores': 36, 'critério': 'friedman_mse', 'min_exemplos_split': 18, 'min_exemplos_folha': 1, 'num_max_atributos': 0.9814100624247316}. Best is trial 111 with value: 38.6947222091576.\n",
      "[I 2024-10-21 01:29:00,713] Trial 133 finished with value: 38.79007847753101 and parameters: {'num_arvores': 40, 'critério': 'friedman_mse', 'min_exemplos_split': 15, 'min_exemplos_folha': 1, 'num_max_atributos': 0.9448055579049655}. Best is trial 111 with value: 38.6947222091576.\n",
      "[I 2024-10-21 01:29:01,867] Trial 134 finished with value: 38.93592937057961 and parameters: {'num_arvores': 32, 'critério': 'friedman_mse', 'min_exemplos_split': 20, 'min_exemplos_folha': 1, 'num_max_atributos': 0.9983780416922831}. Best is trial 111 with value: 38.6947222091576.\n",
      "[I 2024-10-21 01:29:05,402] Trial 135 finished with value: 38.73581498252147 and parameters: {'num_arvores': 39, 'critério': 'friedman_mse', 'min_exemplos_split': 16, 'min_exemplos_folha': 1, 'num_max_atributos': 0.9322746907377242}. Best is trial 111 with value: 38.6947222091576.\n",
      "[I 2024-10-21 01:29:14,077] Trial 136 finished with value: 38.69497371018772 and parameters: {'num_arvores': 39, 'critério': 'friedman_mse', 'min_exemplos_split': 14, 'min_exemplos_folha': 1, 'num_max_atributos': 0.9387409675140133}. Best is trial 111 with value: 38.6947222091576.\n",
      "[I 2024-10-21 01:29:18,317] Trial 137 finished with value: 38.745274184762856 and parameters: {'num_arvores': 41, 'critério': 'friedman_mse', 'min_exemplos_split': 14, 'min_exemplos_folha': 1, 'num_max_atributos': 0.9382737774112183}. Best is trial 111 with value: 38.6947222091576.\n",
      "[I 2024-10-21 01:29:21,336] Trial 138 finished with value: 42.44005485766891 and parameters: {'num_arvores': 42, 'critério': 'friedman_mse', 'min_exemplos_split': 14, 'min_exemplos_folha': 7, 'num_max_atributos': 0.9252739548018326}. Best is trial 111 with value: 38.6947222091576.\n",
      "[I 2024-10-21 01:29:25,149] Trial 139 finished with value: 38.97445808074283 and parameters: {'num_arvores': 34, 'critério': 'friedman_mse', 'min_exemplos_split': 12, 'min_exemplos_folha': 1, 'num_max_atributos': 0.9418491577568273}. Best is trial 111 with value: 38.6947222091576.\n",
      "[I 2024-10-21 01:29:28,241] Trial 140 finished with value: 39.23335843258123 and parameters: {'num_arvores': 37, 'critério': 'poisson', 'min_exemplos_split': 15, 'min_exemplos_folha': 1, 'num_max_atributos': 0.9067732796057704}. Best is trial 111 with value: 38.6947222091576.\n",
      "[I 2024-10-21 01:29:32,718] Trial 141 finished with value: 44.80722863087869 and parameters: {'num_arvores': 39, 'critério': 'friedman_mse', 'min_exemplos_split': 16, 'min_exemplos_folha': 17, 'num_max_atributos': 0.9479564654088837}. Best is trial 111 with value: 38.6947222091576.\n",
      "[I 2024-10-21 01:29:41,559] Trial 142 finished with value: 38.740843663332086 and parameters: {'num_arvores': 41, 'critério': 'friedman_mse', 'min_exemplos_split': 16, 'min_exemplos_folha': 1, 'num_max_atributos': 0.9323941809536053}. Best is trial 111 with value: 38.6947222091576.\n",
      "[I 2024-10-21 01:29:43,574] Trial 143 finished with value: 38.95515111466422 and parameters: {'num_arvores': 42, 'critério': 'friedman_mse', 'min_exemplos_split': 13, 'min_exemplos_folha': 1, 'num_max_atributos': 0.9269211884477526}. Best is trial 111 with value: 38.6947222091576.\n",
      "[I 2024-10-21 01:29:45,992] Trial 144 finished with value: 43.02243687056734 and parameters: {'num_arvores': 45, 'critério': 'friedman_mse', 'min_exemplos_split': 10, 'min_exemplos_folha': 9, 'num_max_atributos': 0.9489157390764402}. Best is trial 111 with value: 38.6947222091576.\n",
      "[I 2024-10-21 01:29:47,610] Trial 145 finished with value: 39.27266238155903 and parameters: {'num_arvores': 36, 'critério': 'friedman_mse', 'min_exemplos_split': 16, 'min_exemplos_folha': 1, 'num_max_atributos': 0.862594684154413}. Best is trial 111 with value: 38.6947222091576.\n",
      "[I 2024-10-21 01:29:50,725] Trial 146 finished with value: 38.872124660084474 and parameters: {'num_arvores': 41, 'critério': 'friedman_mse', 'min_exemplos_split': 15, 'min_exemplos_folha': 1, 'num_max_atributos': 0.8976940443812155}. Best is trial 111 with value: 38.6947222091576.\n",
      "[I 2024-10-21 01:29:51,578] Trial 147 finished with value: 38.84950234874932 and parameters: {'num_arvores': 33, 'critério': 'friedman_mse', 'min_exemplos_split': 17, 'min_exemplos_folha': 1, 'num_max_atributos': 0.9753756139792362}. Best is trial 111 with value: 38.6947222091576.\n",
      "[I 2024-10-21 01:29:52,378] Trial 148 finished with value: 39.29655631660735 and parameters: {'num_arvores': 38, 'critério': 'friedman_mse', 'min_exemplos_split': 14, 'min_exemplos_folha': 1, 'num_max_atributos': 0.6565026375789598}. Best is trial 111 with value: 38.6947222091576.\n",
      "[I 2024-10-21 01:29:53,327] Trial 149 finished with value: 38.726734535490884 and parameters: {'num_arvores': 30, 'critério': 'friedman_mse', 'min_exemplos_split': 16, 'min_exemplos_folha': 1, 'num_max_atributos': 0.9239734494347964}. Best is trial 111 with value: 38.6947222091576.\n"
     ]
    },
    {
     "name": "stderr",
     "output_type": "stream",
     "text": [
      "[I 2024-10-20 23:34:27,643] Trial 61 finished with value: 44.807369928383295 and parameters: {'num_arvores': 76, 'critério': 'friedman_mse', 'min_exemplos_split': 18, 'min_exemplos_folha': 17, 'num_max_atributos': 0.9973983403474787}. Best is trial 56 with value: 38.80207445031849.\n",
      "[I 2024-10-20 23:34:31,146] Trial 62 finished with value: 38.829556991036526 and parameters: {'num_arvores': 61, 'critério': 'friedman_mse', 'min_exemplos_split': 15, 'min_exemplos_folha': 1, 'num_max_atributos': 0.9111900983258341}. Best is trial 56 with value: 38.80207445031849.\n",
      "[I 2024-10-20 23:34:34,907] Trial 63 finished with value: 39.10061181706497 and parameters: {'num_arvores': 61, 'critério': 'friedman_mse', 'min_exemplos_split': 15, 'min_exemplos_folha': 1, 'num_max_atributos': 0.8319492020515149}. Best is trial 56 with value: 38.80207445031849.\n",
      "[I 2024-10-20 23:34:38,239] Trial 64 finished with value: 39.1619187916987 and parameters: {'num_arvores': 54, 'critério': 'friedman_mse', 'min_exemplos_split': 16, 'min_exemplos_folha': 1, 'num_max_atributos': 0.8926016369096649}. Best is trial 56 with value: 38.80207445031849.\n",
      "[I 2024-10-20 23:34:41,884] Trial 65 finished with value: 44.46518127651153 and parameters: {'num_arvores': 69, 'critério': 'friedman_mse', 'min_exemplos_split': 12, 'min_exemplos_folha': 13, 'num_max_atributos': 0.9551756953870123}. Best is trial 56 with value: 38.80207445031849.\n",
      "[I 2024-10-20 23:34:45,133] Trial 66 finished with value: 44.9064719584325 and parameters: {'num_arvores': 59, 'critério': 'friedman_mse', 'min_exemplos_split': 14, 'min_exemplos_folha': 17, 'num_max_atributos': 0.9193148161735125}. Best is trial 56 with value: 38.80207445031849.\n",
      "[I 2024-10-20 23:34:48,185] Trial 67 finished with value: 38.89550865524528 and parameters: {'num_arvores': 47, 'critério': 'friedman_mse', 'min_exemplos_split': 19, 'min_exemplos_folha': 1, 'num_max_atributos': 0.8697528204882692}. Best is trial 56 with value: 38.80207445031849.\n",
      "[I 2024-10-20 23:34:51,478] Trial 68 finished with value: 38.89455548933682 and parameters: {'num_arvores': 54, 'critério': 'friedman_mse', 'min_exemplos_split': 20, 'min_exemplos_folha': 1, 'num_max_atributos': 0.847291875892298}. Best is trial 56 with value: 38.80207445031849.\n",
      "[I 2024-10-20 23:34:54,906] Trial 69 finished with value: 41.35612533745566 and parameters: {'num_arvores': 64, 'critério': 'friedman_mse', 'min_exemplos_split': 17, 'min_exemplos_folha': 5, 'num_max_atributos': 0.7897435263065993}. Best is trial 56 with value: 38.80207445031849.\n",
      "[I 2024-10-20 23:34:58,083] Trial 70 finished with value: 39.41571049440962 and parameters: {'num_arvores': 55, 'critério': 'poisson', 'min_exemplos_split': 20, 'min_exemplos_folha': 2, 'num_max_atributos': 0.8315333116623469}. Best is trial 56 with value: 38.80207445031849.\n",
      "[I 2024-10-20 23:35:02,003] Trial 71 finished with value: 40.321283513234114 and parameters: {'num_arvores': 72, 'critério': 'friedman_mse', 'min_exemplos_split': 17, 'min_exemplos_folha': 4, 'num_max_atributos': 0.8523128415986073}. Best is trial 56 with value: 38.80207445031849.\n",
      "[I 2024-10-20 23:35:04,483] Trial 72 finished with value: 38.89550865524528 and parameters: {'num_arvores': 47, 'critério': 'friedman_mse', 'min_exemplos_split': 19, 'min_exemplos_folha': 1, 'num_max_atributos': 0.8765943322566956}. Best is trial 56 with value: 38.80207445031849.\n",
      "[I 2024-10-20 23:35:07,633] Trial 73 finished with value: 38.96415344628201 and parameters: {'num_arvores': 57, 'critério': 'friedman_mse', 'min_exemplos_split': 19, 'min_exemplos_folha': 1, 'num_max_atributos': 0.8036546223276119}. Best is trial 56 with value: 38.80207445031849.\n",
      "[I 2024-10-20 23:35:10,925] Trial 74 finished with value: 38.96918936929663 and parameters: {'num_arvores': 54, 'critério': 'friedman_mse', 'min_exemplos_split': 17, 'min_exemplos_folha': 1, 'num_max_atributos': 0.8942978208471678}. Best is trial 56 with value: 38.80207445031849.\n",
      "[I 2024-10-20 23:35:13,793] Trial 75 finished with value: 38.79295931387689 and parameters: {'num_arvores': 48, 'critério': 'friedman_mse', 'min_exemplos_split': 19, 'min_exemplos_folha': 1, 'num_max_atributos': 0.9740467823029223}. Best is trial 75 with value: 38.79295931387689.\n",
      "[I 2024-10-20 23:35:16,797] Trial 76 finished with value: 38.846751103122145 and parameters: {'num_arvores': 43, 'critério': 'friedman_mse', 'min_exemplos_split': 15, 'min_exemplos_folha': 1, 'num_max_atributos': 0.9398730002841744}. Best is trial 75 with value: 38.79295931387689.\n",
      "[I 2024-10-20 23:35:19,605] Trial 77 finished with value: 38.846751103122145 and parameters: {'num_arvores': 43, 'critério': 'friedman_mse', 'min_exemplos_split': 15, 'min_exemplos_folha': 1, 'num_max_atributos': 0.9684183584605661}. Best is trial 75 with value: 38.79295931387689.\n",
      "[I 2024-10-20 23:35:22,935] Trial 78 finished with value: 44.14630584749808 and parameters: {'num_arvores': 63, 'critério': 'friedman_mse', 'min_exemplos_split': 15, 'min_exemplos_folha': 11, 'num_max_atributos': 0.9733888981677045}. Best is trial 75 with value: 38.79295931387689.\n",
      "[I 2024-10-20 23:35:26,267] Trial 79 finished with value: 41.257165514191215 and parameters: {'num_arvores': 51, 'critério': 'friedman_mse', 'min_exemplos_split': 15, 'min_exemplos_folha': 5, 'num_max_atributos': 0.9418361594787705}. Best is trial 75 with value: 38.79295931387689.\n",
      "[I 2024-10-20 23:35:29,253] Trial 80 finished with value: 39.23308220376877 and parameters: {'num_arvores': 43, 'critério': 'friedman_mse', 'min_exemplos_split': 16, 'min_exemplos_folha': 2, 'num_max_atributos': 0.9864753903133282}. Best is trial 75 with value: 38.79295931387689.\n",
      "[I 2024-10-20 23:35:32,333] Trial 81 finished with value: 38.853419860651016 and parameters: {'num_arvores': 45, 'critério': 'friedman_mse', 'min_exemplos_split': 18, 'min_exemplos_folha': 1, 'num_max_atributos': 0.9348335148394358}. Best is trial 75 with value: 38.79295931387689.\n",
      "[I 2024-10-20 23:35:35,264] Trial 82 finished with value: 42.566258797087194 and parameters: {'num_arvores': 47, 'critério': 'friedman_mse', 'min_exemplos_split': 18, 'min_exemplos_folha': 7, 'num_max_atributos': 0.9334186231469717}. Best is trial 75 with value: 38.79295931387689.\n",
      "[I 2024-10-20 23:35:38,893] Trial 83 finished with value: 38.746439773252234 and parameters: {'num_arvores': 48, 'critério': 'friedman_mse', 'min_exemplos_split': 14, 'min_exemplos_folha': 1, 'num_max_atributos': 0.9664382716363523}. Best is trial 83 with value: 38.746439773252234.\n",
      "[I 2024-10-20 23:35:41,755] Trial 84 finished with value: 39.06016971324992 and parameters: {'num_arvores': 35, 'critério': 'friedman_mse', 'min_exemplos_split': 12, 'min_exemplos_folha': 1, 'num_max_atributos': 0.964787483016019}. Best is trial 83 with value: 38.746439773252234.\n",
      "[I 2024-10-20 23:35:44,593] Trial 85 finished with value: 38.69853153593466 and parameters: {'num_arvores': 38, 'critério': 'friedman_mse', 'min_exemplos_split': 14, 'min_exemplos_folha': 1, 'num_max_atributos': 0.998773791074718}. Best is trial 85 with value: 38.69853153593466.\n",
      "[I 2024-10-20 23:35:47,543] Trial 86 finished with value: 38.69853153593466 and parameters: {'num_arvores': 38, 'critério': 'friedman_mse', 'min_exemplos_split': 14, 'min_exemplos_folha': 1, 'num_max_atributos': 0.9988040966586879}. Best is trial 85 with value: 38.69853153593466.\n",
      "[I 2024-10-20 23:35:50,303] Trial 87 finished with value: 39.55080336673947 and parameters: {'num_arvores': 38, 'critério': 'friedman_mse', 'min_exemplos_split': 12, 'min_exemplos_folha': 3, 'num_max_atributos': 0.9998161376680396}. Best is trial 85 with value: 38.69853153593466.\n",
      "[I 2024-10-20 23:35:53,223] Trial 88 finished with value: 39.18293026456533 and parameters: {'num_arvores': 40, 'critério': 'poisson', 'min_exemplos_split': 11, 'min_exemplos_folha': 1, 'num_max_atributos': 0.9771452503315669}. Best is trial 85 with value: 38.69853153593466.\n",
      "[I 2024-10-20 23:35:55,643] Trial 89 finished with value: 42.57896775853416 and parameters: {'num_arvores': 36, 'critério': 'friedman_mse', 'min_exemplos_split': 14, 'min_exemplos_folha': 8, 'num_max_atributos': 0.9670292972381487}. Best is trial 85 with value: 38.69853153593466.\n",
      "[I 2024-10-20 23:35:58,003] Trial 90 finished with value: 43.89145315716242 and parameters: {'num_arvores': 33, 'critério': 'friedman_mse', 'min_exemplos_split': 16, 'min_exemplos_folha': 11, 'num_max_atributos': 0.9126420417377522}. Best is trial 85 with value: 38.69853153593466.\n"
     ]
    },
    {
     "name": "stderr",
     "output_type": "stream",
     "text": [
      "[I 2024-10-20 23:36:00,668] Trial 91 finished with value: 44.45626302552613 and parameters: {'num_arvores': 43, 'critério': 'friedman_mse', 'min_exemplos_split': 10, 'min_exemplos_folha': 14, 'num_max_atributos': 0.9502308463837766}. Best is trial 85 with value: 38.69853153593466.\n",
      "[I 2024-10-20 23:36:03,143] Trial 92 finished with value: 45.088539153777575 and parameters: {'num_arvores': 40, 'critério': 'friedman_mse', 'min_exemplos_split': 15, 'min_exemplos_folha': 20, 'num_max_atributos': 0.9296028648431075}. Best is trial 85 with value: 38.69853153593466.\n",
      "[I 2024-10-20 23:36:06,304] Trial 93 finished with value: 38.785045199862125 and parameters: {'num_arvores': 44, 'critério': 'friedman_mse', 'min_exemplos_split': 17, 'min_exemplos_folha': 1, 'num_max_atributos': 0.9856534967348692}. Best is trial 85 with value: 38.69853153593466.\n",
      "[I 2024-10-20 23:36:09,133] Trial 94 finished with value: 38.934245491297474 and parameters: {'num_arvores': 35, 'critério': 'friedman_mse', 'min_exemplos_split': 17, 'min_exemplos_folha': 1, 'num_max_atributos': 0.9989893459936793}. Best is trial 85 with value: 38.69853153593466.\n",
      "[I 2024-10-20 23:36:11,847] Trial 95 finished with value: 42.189629049037094 and parameters: {'num_arvores': 38, 'critério': 'friedman_mse', 'min_exemplos_split': 15, 'min_exemplos_folha': 6, 'num_max_atributos': 0.9758215605634477}. Best is trial 85 with value: 38.69853153593466.\n",
      "[I 2024-10-20 23:36:14,929] Trial 96 finished with value: 38.95515111466422 and parameters: {'num_arvores': 42, 'critério': 'friedman_mse', 'min_exemplos_split': 13, 'min_exemplos_folha': 1, 'num_max_atributos': 0.9085920918062601}. Best is trial 85 with value: 38.69853153593466.\n",
      "[I 2024-10-20 23:36:17,933] Trial 97 finished with value: 40.249787171795525 and parameters: {'num_arvores': 48, 'critério': 'friedman_mse', 'min_exemplos_split': 14, 'min_exemplos_folha': 4, 'num_max_atributos': 0.9715191215480017}. Best is trial 85 with value: 38.69853153593466.\n",
      "[I 2024-10-20 23:36:21,004] Trial 98 finished with value: 38.81056153861048 and parameters: {'num_arvores': 44, 'critério': 'friedman_mse', 'min_exemplos_split': 16, 'min_exemplos_folha': 1, 'num_max_atributos': 0.9518519442307871}. Best is trial 85 with value: 38.69853153593466.\n",
      "[I 2024-10-20 23:36:24,088] Trial 99 finished with value: 38.783193992918534 and parameters: {'num_arvores': 43, 'critério': 'friedman_mse', 'min_exemplos_split': 16, 'min_exemplos_folha': 1, 'num_max_atributos': 0.9443456668920399}. Best is trial 85 with value: 38.69853153593466.\n",
      "[I 2024-10-20 23:36:27,099] Trial 100 finished with value: 43.42333847837421 and parameters: {'num_arvores': 49, 'critério': 'friedman_mse', 'min_exemplos_split': 16, 'min_exemplos_folha': 10, 'num_max_atributos': 0.9515815660839737}. Best is trial 85 with value: 38.69853153593466.\n",
      "[I 2024-10-20 23:36:30,113] Trial 101 finished with value: 38.914341145003604 and parameters: {'num_arvores': 44, 'critério': 'friedman_mse', 'min_exemplos_split': 17, 'min_exemplos_folha': 1, 'num_max_atributos': 0.890191015545118}. Best is trial 85 with value: 38.69853153593466.\n",
      "[I 2024-10-20 23:36:33,114] Trial 102 finished with value: 38.75925036416762 and parameters: {'num_arvores': 41, 'critério': 'friedman_mse', 'min_exemplos_split': 17, 'min_exemplos_folha': 1, 'num_max_atributos': 0.9432540482242007}. Best is trial 85 with value: 38.69853153593466.\n",
      "[I 2024-10-20 23:36:36,073] Trial 103 finished with value: 38.792463150871 and parameters: {'num_arvores': 38, 'critério': 'friedman_mse', 'min_exemplos_split': 19, 'min_exemplos_folha': 1, 'num_max_atributos': 0.9405373916265527}. Best is trial 85 with value: 38.69853153593466.\n",
      "[I 2024-10-20 23:36:39,034] Trial 104 finished with value: 38.79945710873745 and parameters: {'num_arvores': 41, 'critério': 'friedman_mse', 'min_exemplos_split': 19, 'min_exemplos_folha': 1, 'num_max_atributos': 0.9184717400417148}. Best is trial 85 with value: 38.69853153593466.\n",
      "[I 2024-10-20 23:36:41,792] Trial 105 finished with value: 38.792463150871 and parameters: {'num_arvores': 38, 'critério': 'friedman_mse', 'min_exemplos_split': 19, 'min_exemplos_folha': 1, 'num_max_atributos': 0.9897472178508351}. Best is trial 85 with value: 38.69853153593466.\n",
      "[I 2024-10-20 23:36:44,624] Trial 106 finished with value: 38.785308651719376 and parameters: {'num_arvores': 39, 'critério': 'friedman_mse', 'min_exemplos_split': 19, 'min_exemplos_folha': 1, 'num_max_atributos': 0.9981177512720898}. Best is trial 85 with value: 38.69853153593466.\n",
      "[I 2024-10-20 23:36:47,079] Trial 107 finished with value: 44.80722863087869 and parameters: {'num_arvores': 39, 'critério': 'friedman_mse', 'min_exemplos_split': 19, 'min_exemplos_folha': 17, 'num_max_atributos': 0.98895214114664}. Best is trial 85 with value: 38.69853153593466.\n",
      "[I 2024-10-20 23:36:49,695] Trial 108 finished with value: 39.82722421000131 and parameters: {'num_arvores': 37, 'critério': 'poisson', 'min_exemplos_split': 20, 'min_exemplos_folha': 3, 'num_max_atributos': 0.9832765721970786}. Best is trial 85 with value: 38.69853153593466.\n",
      "[I 2024-10-20 23:36:52,752] Trial 109 finished with value: 38.806941526553544 and parameters: {'num_arvores': 41, 'critério': 'squared_error', 'min_exemplos_split': 20, 'min_exemplos_folha': 1, 'num_max_atributos': 0.9995804559267996}. Best is trial 85 with value: 38.69853153593466.\n",
      "[I 2024-10-20 23:36:55,096] Trial 110 finished with value: 41.098605932781176 and parameters: {'num_arvores': 31, 'critério': 'friedman_mse', 'min_exemplos_split': 19, 'min_exemplos_folha': 5, 'num_max_atributos': 0.9385895200481934}. Best is trial 85 with value: 38.69853153593466.\n",
      "[I 2024-10-20 23:36:57,498] Trial 111 finished with value: 42.48291617935378 and parameters: {'num_arvores': 34, 'critério': 'friedman_mse', 'min_exemplos_split': 19, 'min_exemplos_folha': 7, 'num_max_atributos': 0.9157686285874712}. Best is trial 85 with value: 38.69853153593466.\n",
      "[I 2024-10-20 23:37:00,440] Trial 112 finished with value: 38.75925036416762 and parameters: {'num_arvores': 41, 'critério': 'friedman_mse', 'min_exemplos_split': 17, 'min_exemplos_folha': 1, 'num_max_atributos': 0.951287005250103}. Best is trial 85 with value: 38.69853153593466.\n",
      "[I 2024-10-20 23:37:03,343] Trial 113 finished with value: 38.770273004317424 and parameters: {'num_arvores': 38, 'critério': 'friedman_mse', 'min_exemplos_split': 18, 'min_exemplos_folha': 1, 'num_max_atributos': 0.9758712251893777}. Best is trial 85 with value: 38.69853153593466.\n",
      "[I 2024-10-20 23:37:06,363] Trial 114 finished with value: 38.724675043113145 and parameters: {'num_arvores': 39, 'critério': 'friedman_mse', 'min_exemplos_split': 17, 'min_exemplos_folha': 1, 'num_max_atributos': 0.9544492983384557}. Best is trial 85 with value: 38.69853153593466.\n",
      "[I 2024-10-20 23:37:08,910] Trial 115 finished with value: 44.74432089051349 and parameters: {'num_arvores': 38, 'critério': 'friedman_mse', 'min_exemplos_split': 17, 'min_exemplos_folha': 16, 'num_max_atributos': 0.9552715296934587}. Best is trial 85 with value: 38.69853153593466.\n",
      "[I 2024-10-20 23:37:11,563] Trial 116 finished with value: 38.92004820312367 and parameters: {'num_arvores': 36, 'critério': 'friedman_mse', 'min_exemplos_split': 18, 'min_exemplos_folha': 1, 'num_max_atributos': 0.9840964880809935}. Best is trial 85 with value: 38.69853153593466.\n",
      "[I 2024-10-20 23:37:14,143] Trial 117 finished with value: 39.01497597280359 and parameters: {'num_arvores': 32, 'critério': 'friedman_mse', 'min_exemplos_split': 17, 'min_exemplos_folha': 1, 'num_max_atributos': 0.8843118807623915}. Best is trial 85 with value: 38.69853153593466.\n",
      "[I 2024-10-20 23:37:16,822] Trial 118 finished with value: 38.735814982521475 and parameters: {'num_arvores': 39, 'critério': 'friedman_mse', 'min_exemplos_split': 16, 'min_exemplos_folha': 1, 'num_max_atributos': 0.9519359563624136}. Best is trial 85 with value: 38.69853153593466.\n",
      "[I 2024-10-20 23:37:19,685] Trial 119 finished with value: 39.20496956746711 and parameters: {'num_arvores': 41, 'critério': 'friedman_mse', 'min_exemplos_split': 16, 'min_exemplos_folha': 2, 'num_max_atributos': 0.9286309540760485}. Best is trial 85 with value: 38.69853153593466.\n",
      "[I 2024-10-20 23:37:22,103] Trial 120 finished with value: 45.08612089061277 and parameters: {'num_arvores': 39, 'critério': 'friedman_mse', 'min_exemplos_split': 17, 'min_exemplos_folha': 20, 'num_max_atributos': 0.9531304871536441}. Best is trial 85 with value: 38.69853153593466.\n"
     ]
    },
    {
     "name": "stderr",
     "output_type": "stream",
     "text": [
      "[I 2024-10-20 23:37:24,998] Trial 121 finished with value: 38.94522173683813 and parameters: {'num_arvores': 45, 'critério': 'friedman_mse', 'min_exemplos_split': 18, 'min_exemplos_folha': 1, 'num_max_atributos': 0.8933601869169642}. Best is trial 85 with value: 38.69853153593466.\n",
      "[I 2024-10-20 23:37:27,839] Trial 122 finished with value: 38.77894127099911 and parameters: {'num_arvores': 38, 'critério': 'friedman_mse', 'min_exemplos_split': 20, 'min_exemplos_folha': 1, 'num_max_atributos': 0.9831388104030091}. Best is trial 85 with value: 38.69853153593466.\n",
      "[I 2024-10-20 23:37:30,632] Trial 123 finished with value: 38.859358825843444 and parameters: {'num_arvores': 37, 'critério': 'friedman_mse', 'min_exemplos_split': 20, 'min_exemplos_folha': 1, 'num_max_atributos': 0.9629082760832597}. Best is trial 85 with value: 38.69853153593466.\n",
      "[I 2024-10-20 23:37:33,392] Trial 124 finished with value: 38.97094003272713 and parameters: {'num_arvores': 35, 'critério': 'friedman_mse', 'min_exemplos_split': 18, 'min_exemplos_folha': 1, 'num_max_atributos': 0.9444347043923603}. Best is trial 85 with value: 38.69853153593466.\n",
      "[I 2024-10-20 23:37:36,003] Trial 125 finished with value: 44.305982613960566 and parameters: {'num_arvores': 40, 'critério': 'friedman_mse', 'min_exemplos_split': 16, 'min_exemplos_folha': 13, 'num_max_atributos': 0.9998753703757844}. Best is trial 85 with value: 38.69853153593466.\n",
      "[I 2024-10-20 23:37:39,093] Trial 126 finished with value: 38.71578504215877 and parameters: {'num_arvores': 42, 'critério': 'friedman_mse', 'min_exemplos_split': 16, 'min_exemplos_folha': 1, 'num_max_atributos': 0.9249831327121346}. Best is trial 85 with value: 38.69853153593466.\n",
      "[I 2024-10-20 23:37:42,380] Trial 127 finished with value: 38.76449452231121 and parameters: {'num_arvores': 46, 'critério': 'friedman_mse', 'min_exemplos_split': 14, 'min_exemplos_folha': 1, 'num_max_atributos': 0.9223347329291303}. Best is trial 85 with value: 38.69853153593466.\n",
      "[I 2024-10-20 23:37:45,651] Trial 128 finished with value: 38.75742686924288 and parameters: {'num_arvores': 47, 'critério': 'squared_error', 'min_exemplos_split': 14, 'min_exemplos_folha': 1, 'num_max_atributos': 0.9220793804951198}. Best is trial 85 with value: 38.69853153593466.\n",
      "[I 2024-10-20 23:37:48,322] Trial 129 finished with value: 43.40651286520102 and parameters: {'num_arvores': 46, 'critério': 'squared_error', 'min_exemplos_split': 14, 'min_exemplos_folha': 10, 'num_max_atributos': 0.9237837520629044}. Best is trial 85 with value: 38.69853153593466.\n",
      "[I 2024-10-20 23:37:51,138] Trial 130 finished with value: 39.39200601611346 and parameters: {'num_arvores': 41, 'critério': 'squared_error', 'min_exemplos_split': 14, 'min_exemplos_folha': 3, 'num_max_atributos': 0.8704753704909651}. Best is trial 85 with value: 38.69853153593466.\n",
      "[I 2024-10-20 23:37:54,066] Trial 131 finished with value: 42.51986531257268 and parameters: {'num_arvores': 48, 'critério': 'squared_error', 'min_exemplos_split': 13, 'min_exemplos_folha': 7, 'num_max_atributos': 0.9003828157616176}. Best is trial 85 with value: 38.69853153593466.\n",
      "[I 2024-10-20 23:37:57,132] Trial 132 finished with value: 38.810881955711416 and parameters: {'num_arvores': 44, 'critério': 'squared_error', 'min_exemplos_split': 16, 'min_exemplos_folha': 1, 'num_max_atributos': 0.9652650466051248}. Best is trial 85 with value: 38.69853153593466.\n",
      "[I 2024-10-20 23:38:00,063] Trial 133 finished with value: 38.81707390095467 and parameters: {'num_arvores': 42, 'critério': 'squared_error', 'min_exemplos_split': 15, 'min_exemplos_folha': 1, 'num_max_atributos': 0.919814240318972}. Best is trial 85 with value: 38.69853153593466.\n",
      "[I 2024-10-20 23:38:02,947] Trial 134 finished with value: 43.02243687056734 and parameters: {'num_arvores': 45, 'critério': 'friedman_mse', 'min_exemplos_split': 17, 'min_exemplos_folha': 9, 'num_max_atributos': 0.9718930510246}. Best is trial 85 with value: 38.69853153593466.\n",
      "[I 2024-10-20 23:38:06,476] Trial 135 finished with value: 39.47122908198757 and parameters: {'num_arvores': 47, 'critério': 'poisson', 'min_exemplos_split': 5, 'min_exemplos_folha': 1, 'num_max_atributos': 0.9404967298589195}. Best is trial 85 with value: 38.69853153593466.\n",
      "[I 2024-10-20 23:38:09,364] Trial 136 finished with value: 44.86203763029835 and parameters: {'num_arvores': 50, 'critério': 'friedman_mse', 'min_exemplos_split': 14, 'min_exemplos_folha': 16, 'num_max_atributos': 0.9040062957266131}. Best is trial 85 with value: 38.69853153593466.\n",
      "[I 2024-10-20 23:38:12,972] Trial 137 finished with value: 38.81153233300709 and parameters: {'num_arvores': 52, 'critério': 'friedman_mse', 'min_exemplos_split': 15, 'min_exemplos_folha': 1, 'num_max_atributos': 0.955528585373716}. Best is trial 85 with value: 38.69853153593466.\n",
      "[I 2024-10-20 23:38:15,672] Trial 138 finished with value: 39.098246341544886 and parameters: {'num_arvores': 42, 'critério': 'friedman_mse', 'min_exemplos_split': 13, 'min_exemplos_folha': 2, 'num_max_atributos': 0.8819341152903295}. Best is trial 85 with value: 38.69853153593466.\n",
      "[I 2024-10-20 23:38:18,062] Trial 139 finished with value: 43.97939465556664 and parameters: {'num_arvores': 36, 'critério': 'friedman_mse', 'min_exemplos_split': 17, 'min_exemplos_folha': 11, 'num_max_atributos': 0.977748245610114}. Best is trial 85 with value: 38.69853153593466.\n",
      "[I 2024-10-20 23:38:20,572] Trial 140 finished with value: 38.818800548799224 and parameters: {'num_arvores': 34, 'critério': 'friedman_mse', 'min_exemplos_split': 16, 'min_exemplos_folha': 1, 'num_max_atributos': 0.9194767529523695}. Best is trial 85 with value: 38.69853153593466.\n",
      "[I 2024-10-20 23:38:23,843] Trial 141 finished with value: 39.04638781224056 and parameters: {'num_arvores': 45, 'critério': 'friedman_mse', 'min_exemplos_split': 4, 'min_exemplos_folha': 1, 'num_max_atributos': 0.9343029930613705}. Best is trial 85 with value: 38.69853153593466.\n",
      "[I 2024-10-20 23:38:26,847] Trial 142 finished with value: 38.807632882024286 and parameters: {'num_arvores': 39, 'critério': 'friedman_mse', 'min_exemplos_split': 15, 'min_exemplos_folha': 1, 'num_max_atributos': 0.9841928936260352}. Best is trial 85 with value: 38.69853153593466.\n",
      "[I 2024-10-20 23:38:29,428] Trial 143 finished with value: 44.15069364180109 and parameters: {'num_arvores': 40, 'critério': 'friedman_mse', 'min_exemplos_split': 18, 'min_exemplos_folha': 12, 'num_max_atributos': 0.9610826937755391}. Best is trial 85 with value: 38.69853153593466.\n",
      "[I 2024-10-20 23:38:32,572] Trial 144 finished with value: 38.783193992918534 and parameters: {'num_arvores': 43, 'critério': 'friedman_mse', 'min_exemplos_split': 16, 'min_exemplos_folha': 1, 'num_max_atributos': 0.9960601885124034}. Best is trial 85 with value: 38.69853153593466.\n",
      "[I 2024-10-20 23:38:35,447] Trial 145 finished with value: 38.783193992918534 and parameters: {'num_arvores': 43, 'critério': 'friedman_mse', 'min_exemplos_split': 16, 'min_exemplos_folha': 1, 'num_max_atributos': 0.9727057713162264}. Best is trial 85 with value: 38.69853153593466.\n",
      "[I 2024-10-20 23:38:38,788] Trial 146 finished with value: 38.72876006947921 and parameters: {'num_arvores': 42, 'critério': 'friedman_mse', 'min_exemplos_split': 14, 'min_exemplos_folha': 1, 'num_max_atributos': 0.9507832003041763}. Best is trial 85 with value: 38.69853153593466.\n",
      "[I 2024-10-20 23:38:42,201] Trial 147 finished with value: 38.72876006947921 and parameters: {'num_arvores': 42, 'critério': 'friedman_mse', 'min_exemplos_split': 14, 'min_exemplos_folha': 1, 'num_max_atributos': 0.9464067433422494}. Best is trial 85 with value: 38.69853153593466.\n",
      "[I 2024-10-20 23:38:44,833] Trial 148 finished with value: 40.56139156425825 and parameters: {'num_arvores': 37, 'critério': 'friedman_mse', 'min_exemplos_split': 12, 'min_exemplos_folha': 4, 'num_max_atributos': 0.9055621101232557}. Best is trial 85 with value: 38.69853153593466.\n",
      "[I 2024-10-20 23:38:47,979] Trial 149 finished with value: 38.74538238014317 and parameters: {'num_arvores': 41, 'critério': 'squared_error', 'min_exemplos_split': 14, 'min_exemplos_folha': 1, 'num_max_atributos': 0.9358796773647329}. Best is trial 85 with value: 38.69853153593466.\n",
      "[I 2024-10-20 23:38:50,723] Trial 150 finished with value: 44.6258554251614 and parameters: {'num_arvores': 41, 'critério': 'squared_error', 'min_exemplos_split': 14, 'min_exemplos_folha': 15, 'num_max_atributos': 0.8660994327239461}. Best is trial 85 with value: 38.69853153593466.\n"
     ]
    }
   ],
   "source": [
    "NUM_TENTATIVAS = 150 # É cumulativo em relação aos já feitos no arquivo\n",
    "\n",
    "objeto_de_estudo.optimize(funcao_objetivo_parcial, n_trials=NUM_TENTATIVAS)"
   ]
  },
  {
   "cell_type": "markdown",
   "id": "4c2d5474",
   "metadata": {},
   "source": [
    "Podemos resgatar os parâmetros do melhor resultado com `best_trial`:"
   ]
  },
  {
   "cell_type": "code",
   "execution_count": 15,
   "id": "96e26897",
   "metadata": {},
   "outputs": [
    {
     "name": "stdout",
     "output_type": "stream",
     "text": [
      "Número do melhor trial: 111\n",
      "Parâmetros do melhor trial: {'num_arvores': 50, 'critério': 'friedman_mse', 'min_exemplos_split': 17, 'min_exemplos_folha': 1, 'num_max_atributos': 0.9777417834421356}\n",
      "RMSE do melhor trial: 38.6947222091576\n"
     ]
    }
   ],
   "source": [
    "melhor_trial = objeto_de_estudo.best_trial\n",
    "\n",
    "print(f\"Número do melhor trial: {melhor_trial.number}\")\n",
    "print(f\"Parâmetros do melhor trial: {melhor_trial.params}\")\n",
    "print(f\"RMSE do melhor trial: {melhor_trial.value}\")"
   ]
  },
  {
   "cell_type": "markdown",
   "id": "08720db4",
   "metadata": {},
   "source": [
    "Agora, podemos treinar um modelo com esses hiperparâmetros e realizar uma previsão com os dados de treino. Note que haverá uma diferença ao valor de RMSE encontrado pelo Optuna, devido a essa mudança de dados de teste."
   ]
  },
  {
   "cell_type": "code",
   "execution_count": 16,
   "id": "a417cb6f",
   "metadata": {},
   "outputs": [
    {
     "name": "stdout",
     "output_type": "stream",
     "text": [
      "61.035985285831146\n"
     ]
    }
   ],
   "source": [
    "modelo = cria_instancia_modelo(melhor_trial)\n",
    "\n",
    "modelo.fit(X_treino, y_treino)\n",
    "\n",
    "y_verdadeiro = y_teste\n",
    "X_verdadeiro = X_teste\n",
    "\n",
    "y_previsao = modelo.predict(X_verdadeiro)\n",
    "\n",
    "RMSE = mean_squared_error(y_verdadeiro, y_previsao, squared = False)\n",
    "\n",
    "print(RMSE)"
   ]
  },
  {
   "cell_type": "markdown",
   "id": "5a970b45",
   "metadata": {},
   "source": [
    "O valor de RMSE está menor que o inicialmente encontrado com valores arbitrários, entretanto, discrepante com o resultado encontrado pelo Optuna. Não encontramos nada que indicasse o motivo dessa diferença, apenas a mudança dos dados de teste. Por isso, levamos em consideração a possibilidade de um overfitting, dado à especifidade ao dados a métrica do RMSE."
   ]
  },
  {
   "cell_type": "markdown",
   "id": "d2b14e82",
   "metadata": {},
   "source": [
    "## 5. Conclusão"
   ]
  },
  {
   "cell_type": "markdown",
   "id": "ba476ddb",
   "metadata": {},
   "source": [
    "O algoritmo de floresta aleatória teve um valor de RMSE maior que o esperado, mesmo otimizado. Acreditamos que tenha acontecido um overfitting, apesar de não tenha sido encontrados erros na construção do código de otimização. 🫤\n",
    "\n",
    "Contudo, ainda com esse algoritmo conseguimos extrair outras informações relevantes, que não foram vistas em outros, como em que a relação de importância entre os atributos se deu."
   ]
  },
  {
   "cell_type": "markdown",
   "id": "41a1d578",
   "metadata": {},
   "source": [
    "## 6. Referências"
   ]
  },
  {
   "cell_type": "markdown",
   "id": "6f5fb4ce",
   "metadata": {},
   "source": [
    "1. <b>Construção de um algoritmo de floresta aleatória</b>: ATP-203 5.1 - Floresta aleatória (notebook didático feito por Daniel Cassar)\n",
    "2. <b>Otimização de hiperparâmetros com Optuna</b>: <br>\n",
    "    2.1. https://ryannolandata.com/optuna-hyperparameter-tuning/ <br>\n",
    "    2.2. https://medium.com/@walter_sperat/using-optuna-with-sklearn-the-right-way-part-1-6b4ad0ab2451 <br>\n",
    "    2.3. ATP-203 6.1 - Otimização de hiperparâmetros com optuna (notebook didático feito por Daniel Cassar) <br>\n",
    "3. <b>Gráfico de barras</b>: https://matplotlib.org/stable/api/_as_gen/matplotlib.pyplot.barh.html#matplotlib.pyplot.barh"
   ]
  }
 ],
 "metadata": {
  "kernelspec": {
   "display_name": "Python 3 (ipykernel)",
   "language": "python",
   "name": "python3"
  },
  "language_info": {
   "codemirror_mode": {
    "name": "ipython",
    "version": 3
   },
   "file_extension": ".py",
   "mimetype": "text/x-python",
   "name": "python",
   "nbconvert_exporter": "python",
   "pygments_lexer": "ipython3",
   "version": "3.11.7"
  }
 },
 "nbformat": 4,
 "nbformat_minor": 5
}
